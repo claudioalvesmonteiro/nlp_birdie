{
 "cells": [
  {
   "cell_type": "markdown",
   "metadata": {
    "colab_type": "text",
    "id": "CPIrc0PsobsU"
   },
   "source": [
    "# Teste Técnico Birdie\n",
    "\n",
    "@claudioalvesmonteiro\n",
    "Junho, 2020"
   ]
  },
  {
   "cell_type": "markdown",
   "metadata": {
    "colab_type": "text",
    "id": "EIxeKBzmoBIG"
   },
   "source": [
    "\n",
    "### Problema \n",
    "1. extração de aspectos: palavras dentro de um texto que codificam uma característica de seu funcionamento, estrutura, ou do processo de compra (entrega, SAC, consertos e problemas)\n",
    "2. o quê está sendo falado nos canais de venda de seus produtos\n",
    "3. Encontrar uma maneira de extrair estes aspectos;\n",
    "4. Explorar essas informações para gerar insights (por exemplo, quais aspectos estão mais relacionados com reviews positivos?);\n",
    "5. Opcionalmente, criar gráficos e propostas de visualizações para suas observações\n",
    "6. NLP, named entity recognition, syntax pattern matching, feature extraction, topic representation, word embedding, sentence embedding\n",
    "\n",
    "### Mineração de Dados\n",
    "\n",
    "0. Criar variável comentario_clean\n",
    "1. Contagem de palavras total para explorar aspectos mais falados;\n",
    "2. Identificar os aspectos em cada comentário e salvar em variável;\n",
    "3. Criar variável comentário_positivo (3 estrelas pra cima) e comentario_negativo (2 estrelas pra baixo)\n",
    "4. Capturar bag of words count (+ e -) para cada aspecto identificado;\n",
    "5. Visualização wordcloud e wordcount para cada aspecto identificado; \n",
    "\n",
    "\n",
    "6. explorar tendencia temporal das avaliações dos produtos (% de avaliacoes positivas), line-plot and thick bar, por aspecto do produto\n",
    "7. indicador mensal de \"satisfação do cliente\", apresentando o que foi bom e ruim naquele mês \n",
    "8. relação com retailer (distribuidora)\n",
    "9. similaridade entre textos (?)\n",
    "10. modelagem para ver o que influencia ter uma boa avaliação (?)\n"
   ]
  },
  {
   "cell_type": "markdown",
   "metadata": {
    "colab_type": "text",
    "id": "ASuSYAsDoyib"
   },
   "source": [
    "# Pré-processamento"
   ]
  },
  {
   "cell_type": "markdown",
   "metadata": {},
   "source": [
    "Com os objetivos definidos, o primeiro passo é pré-processar os comentários e colocar as palavras em caixa baixa, remover números, remover stopwords (conectivos) e aplicar o algoritmo lemmantization. Com isso padronizamos nosso texto para fazer uma extração de características mais eficiente. "
   ]
  },
  {
   "cell_type": "code",
   "execution_count": null,
   "metadata": {
    "colab": {},
    "colab_type": "code",
    "id": "UYjM8t9spk0h"
   },
   "outputs": [],
   "source": [
    "# importar pacotes\n",
    "import pandas as pd\n",
    "import nltk\n",
    "#nltk.download('punkt')\n",
    "#nltk.download('averaged_perceptron_tagger')"
   ]
  },
  {
   "cell_type": "code",
   "execution_count": null,
   "metadata": {
    "colab": {
     "base_uri": "https://localhost:8080/",
     "height": 271
    },
    "colab_type": "code",
    "id": "NzQJhgBvpeCz",
    "outputId": "a6edde26-efe8-4e39-e8a3-d6c44bb0e0c5"
   },
   "outputs": [],
   "source": [
    "# import dataset\n",
    "data = pd.read_csv('data/tech_test.tsv')"
   ]
  },
  {
   "cell_type": "code",
   "execution_count": null,
   "metadata": {
    "colab": {
     "base_uri": "https://localhost:8080/",
     "height": 1000
    },
    "colab_type": "code",
    "id": "uUY90yU6qGf7",
    "outputId": "53a1f91c-0a96-4736-8169-c6c2886180ca"
   },
   "outputs": [],
   "source": [
    "def cleanTextToken(text, tokenization = True):\n",
    "    ''' funcao para extrair palavras e \n",
    "        padronizar texto.\n",
    "    '''\n",
    "    # transforma em caixa baixa\n",
    "    text = text.lower()\n",
    "    # remove numeros\n",
    "    text = ''.join([i for i in text if not i.isdigit()]) \n",
    "    # remove pontuacao\n",
    "    from nltk.tokenize import RegexpTokenizer\n",
    "    tokenizer = RegexpTokenizer(r'\\w+') # preserva palavras e alfanumericos\n",
    "    text = tokenizer.tokenize(text)\n",
    "    # remove stopwords\n",
    "    import nltk\n",
    "    from nltk.corpus import stopwords\n",
    "    stop = set(stopwords.words('english'))\n",
    "    text = [w for w in text if not w in stop] \n",
    "    # lemmatization\n",
    "    from nltk.stem import WordNetLemmatizer \n",
    "    lemmatizer = WordNetLemmatizer() \n",
    "    text = [lemmatizer.lemmatize(word) for word in text]\n",
    "    # retorna tokens limpos\n",
    "    return(text)\n",
    "\n",
    "# gerar variavel com comentario 'limpo'\n",
    "data['review_body_token'] = [cleanTextToken(text) for text in data['review_body']]"
   ]
  },
  {
   "cell_type": "markdown",
   "metadata": {},
   "source": [
    "Agora é possível fazer uma contagem dos termos mais frequentes e testar se é possível extrair aspectos a partir disso. Com um modelo pré-treinado do pacote nltk consegui extrair a categoria da palavra (substantivo, adjetivo, pronome, etc) e assim afunilar a busca por aspectos relevantes dos produtos."
   ]
  },
  {
   "cell_type": "code",
   "execution_count": null,
   "metadata": {},
   "outputs": [],
   "source": [
    "def wordCount(txt_list):\n",
    "    ''' contar frequencia de palavras em lista,\n",
    "        identificar a classe gramatical da palavra e\n",
    "        salvar em dataframe\n",
    "    '''\n",
    "    # dicionario com informacoes\n",
    "    wordfreq = {'word':[],'category':[],'freq':[]}\n",
    "    # iteracao na lista\n",
    "    for word in txt_list:\n",
    "        if word not in wordfreq:\n",
    "            wordfreq['word'].append(txt_list.count(word))           # salvar palavra\n",
    "            wordfreq['category'].append(nltk.pos_tag([word])[0][1]) # extrair categoria (subst, adj, etc)\n",
    "            wordfreq['freq'].append(txt_list.count(word))           # calcular frequencia na lista\n",
    "    # transformar em dataframe \n",
    "    count = pd.DataFrame(wordfreq)\n",
    "    # sort_values in df\n",
    "    count.sort_values('freq', inplace=True, ascending=False)\n",
    "    # return df\n",
    "    return count"
   ]
  },
  {
   "cell_type": "code",
   "execution_count": null,
   "metadata": {},
   "outputs": [],
   "source": [
    "# combinar todas as palavras de todos os comentarios\n",
    "all_tokens = []\n",
    "for comment in data['review_body_token']:\n",
    "    for word in comment:\n",
    "        all_tokens.append(word)\n",
    "        \n",
    "# contar e visualizar\n",
    "all_count = wordCount(all_tokens)\n",
    "all_count[0:20]"
   ]
  },
  {
   "cell_type": "code",
   "execution_count": null,
   "metadata": {},
   "outputs": [],
   "source": []
  }
 ],
 "metadata": {
  "colab": {
   "collapsed_sections": [],
   "name": "teste_birdie.ipynb",
   "provenance": []
  },
  "kernelspec": {
   "display_name": "Python 3",
   "language": "python",
   "name": "python3"
  },
  "language_info": {
   "codemirror_mode": {
    "name": "ipython",
    "version": 3
   },
   "file_extension": ".py",
   "mimetype": "text/x-python",
   "name": "python",
   "nbconvert_exporter": "python",
   "pygments_lexer": "ipython3",
   "version": "3.7.4"
  }
 },
 "nbformat": 4,
 "nbformat_minor": 4
}
