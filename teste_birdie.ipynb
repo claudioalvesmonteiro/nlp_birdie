{
 "cells": [
  {
   "cell_type": "markdown",
   "metadata": {
    "colab_type": "text",
    "id": "CPIrc0PsobsU"
   },
   "source": [
    "# Teste Técnico Birdie\n",
    "\n",
    "@claudioalvesmonteiro\n",
    "Junho, 2020"
   ]
  },
  {
   "cell_type": "markdown",
   "metadata": {},
   "source": [
    "Abaixo pontuo as informações dadas para resolução do problema, bem como o passo-a-passo da análise que fiz. "
   ]
  },
  {
   "cell_type": "markdown",
   "metadata": {
    "colab_type": "text",
    "id": "EIxeKBzmoBIG"
   },
   "source": [
    "## Objetivos e informações de subsídio\n",
    "1. Extração de aspectos: palavras dentro de um texto que codificam uma característica de seu funcionamento, estrutura, ou do processo de compra (entrega, SAC, consertos e problemas)\n",
    "2. O quê está sendo falado nos canais de venda de seus produtos\n",
    "3. Encontrar uma maneira de extrair estes aspectos\n",
    "4. Explorar essas informações para gerar insights (por exemplo, quais aspectos estão mais relacionados com reviews positivos?)\n",
    "5. Opcionalmente, criar gráficos e propostas de visualizações para suas observações\n",
    "6. Tópicos: NLP, named entity recognition, syntax pattern matching, feature extraction, topic representation, word embedding, sentence embedding\n",
    "\n",
    "## Desenvolvimento e Análise\n",
    "\n",
    "1. Pré-processamento e Análise Exploratória:\n",
    "    1. Pré-processar texto e gerar tokens\n",
    "    2. Contagem de palavras total para explorar aspectos\n",
    "    3. Identificar os aspectos em cada comentário e salvar em variável\n",
    "    4. Criar variável binária para avaliação, positivo >= 3 estrelas e negativo <= 2 estrelas\n",
    "    \n",
    "2. Análise de Sentimentos:\n",
    "    5. Capturar bag of words (+ e -) para cada aspecto identificado\n",
    "    6. Visualização wordcloud com adjetivos mais frequentes para cada aspecto identificado\n",
    "    \n",
    "3. Análise Temporal:\n",
    "    7. Avaliação de reatilers, brands e aspectos no tempo\n",
    "    8. Volume de revies hora e dia da semana"
   ]
  },
  {
   "cell_type": "markdown",
   "metadata": {
    "colab_type": "text",
    "id": "ASuSYAsDoyib"
   },
   "source": [
    "# 1. Pré-processamento e Análise Exploratória"
   ]
  },
  {
   "cell_type": "markdown",
   "metadata": {},
   "source": [
    "Com os objetivos definidos, o primeiro passo é pré-processar os comentários e colocar as palavras em caixa baixa, remover números, remover stopwords (conectivos) e aplicar o algoritmo lemmantization para padronização de palavras. Com isso padronizamos nosso texto para fazer uma extração de características mais eficiente. "
   ]
  },
  {
   "cell_type": "code",
   "execution_count": 1,
   "metadata": {
    "colab": {},
    "colab_type": "code",
    "id": "UYjM8t9spk0h"
   },
   "outputs": [],
   "source": [
    "# import packages\n",
    "import pandas as pd\n",
    "import nltk\n",
    "from wordcloud import WordCloud\n",
    "import matplotlib.pyplot as plt\n",
    "import plotly.graph_objs as go\n",
    "import plotly.graph_objs as go\n",
    "import plotly.offline as py\n",
    "from plotly.offline import download_plotlyjs, init_notebook_mode, plot, iplot \n",
    "import cufflinks as cf  \n",
    "from plotnine import * "
   ]
  },
  {
   "cell_type": "code",
   "execution_count": 2,
   "metadata": {},
   "outputs": [],
   "source": [
    "# download nltk models (only 1st time)\n",
    "#nltk.download('punkt')\n",
    "#nltk.download('averaged_perceptron_tagger')"
   ]
  },
  {
   "cell_type": "code",
   "execution_count": 3,
   "metadata": {
    "colab": {
     "base_uri": "https://localhost:8080/",
     "height": 271
    },
    "colab_type": "code",
    "id": "NzQJhgBvpeCz",
    "outputId": "a6edde26-efe8-4e39-e8a3-d6c44bb0e0c5"
   },
   "outputs": [
    {
     "name": "stdout",
     "output_type": "stream",
     "text": [
      "69.31 % de casos duplicados na base\n"
     ]
    }
   ],
   "source": [
    "# import dataset\n",
    "data = pd.read_csv('data/tech_test.tsv')\n",
    "\n",
    "# % of duplicated reviews\n",
    "print(round(sum(data.duplicated('review_id'))/len(data)*100, 2),'% de casos duplicados na base')"
   ]
  },
  {
   "cell_type": "markdown",
   "metadata": {},
   "source": [
    "Observando a estrutura dos dados pude observar que haviam reviews exatamente iguais mas apenas com momento de coleta diferentes, então acredito que isso seja resultado de algum processo na coleta dos dados. Como isso poderia gerar um viés na análise, já que vou executar a contagem de termos, decidi por excluir reviews com ID duplicado. "
   ]
  },
  {
   "cell_type": "code",
   "execution_count": 4,
   "metadata": {},
   "outputs": [],
   "source": [
    "# remove duplicated reviews\n",
    "data = data.drop_duplicates('review_id')"
   ]
  },
  {
   "cell_type": "code",
   "execution_count": 5,
   "metadata": {
    "colab": {
     "base_uri": "https://localhost:8080/",
     "height": 1000
    },
    "colab_type": "code",
    "id": "uUY90yU6qGf7",
    "outputId": "53a1f91c-0a96-4736-8169-c6c2886180ca"
   },
   "outputs": [],
   "source": [
    "def cleanTextToken(text, tokenization = True):\n",
    "    ''' standardize text to extract words\n",
    "    '''\n",
    "    # text to lowercase\n",
    "    text = text.lower()\n",
    "    # remove numbers\n",
    "    text = ''.join([i for i in text if not i.isdigit()]) \n",
    "    # remove punctuation\n",
    "    from nltk.tokenize import RegexpTokenizer\n",
    "    tokenizer = RegexpTokenizer(r'\\w+') # preserve words and alphanumeric\n",
    "    text = tokenizer.tokenize(text)\n",
    "    # remove stopwords\n",
    "    from nltk.corpus import stopwords\n",
    "    stop = set(stopwords.words('english'))\n",
    "    text = [w for w in text if not w in stop] \n",
    "    # lemmatization\n",
    "    from nltk.stem import WordNetLemmatizer \n",
    "    lemmatizer = WordNetLemmatizer() \n",
    "    text = [lemmatizer.lemmatize(word) for word in text]\n",
    "    # return clean token\n",
    "    return(text)"
   ]
  },
  {
   "cell_type": "code",
   "execution_count": 6,
   "metadata": {},
   "outputs": [],
   "source": [
    "# generate variable with preprocessed text\n",
    "data['review_body_token'] = [cleanTextToken(text) for text in data['review_body']]"
   ]
  },
  {
   "cell_type": "markdown",
   "metadata": {},
   "source": [
    "Agora é possível fazer uma contagem dos termos mais frequentes e testar se é possível extrair aspectos a partir disso. Com um modelo pré-treinado do pacote nltk consigo extrair a classe gramatical de cada palavra (substantivo, adjetivo, pronome, etc.) e assim afunilar a busca por aspectos relevantes dos produtos em substantivos e posteriormente relacionar esses aspectos com a avaliação e com outras variáveis."
   ]
  },
  {
   "cell_type": "code",
   "execution_count": 7,
   "metadata": {},
   "outputs": [],
   "source": [
    "def wordCount(txt_list):\n",
    "    ''' count frequency of words in tokenized list\n",
    "        and save in dataframe\n",
    "    '''\n",
    "    wordfreq = {'word':[],'freq':[]}\n",
    "    for word in txt_list:\n",
    "        if word not in wordfreq['word']:\n",
    "            wordfreq['word'].append(word)                   # save word\n",
    "            wordfreq['freq'].append(txt_list.count(word))   # save freq\n",
    "    count = pd.DataFrame(wordfreq)\n",
    "    # sort_values in df\n",
    "    count.sort_values('freq', inplace=True, ascending=False)\n",
    "    return count"
   ]
  },
  {
   "cell_type": "code",
   "execution_count": 8,
   "metadata": {},
   "outputs": [],
   "source": [
    "# combine all words in reviews\n",
    "all_tokens = []\n",
    "for comment in data['review_body_token']:\n",
    "    for word in comment:\n",
    "        all_tokens.append(word)"
   ]
  },
  {
   "cell_type": "code",
   "execution_count": 9,
   "metadata": {},
   "outputs": [],
   "source": [
    "# count words in reviews\n",
    "all_count = wordCount(all_tokens[0:100000])"
   ]
  },
  {
   "cell_type": "code",
   "execution_count": 10,
   "metadata": {},
   "outputs": [],
   "source": [
    "def nltkPerceptronClass(column):\n",
    "    ''' identify grammar class of each word in list,\n",
    "        return list with classes \n",
    "    '''\n",
    "    new_column =[]\n",
    "    for word in column:\n",
    "        new_column.append(nltk.pos_tag([word])[0][1])\n",
    "    return new_column"
   ]
  },
  {
   "cell_type": "code",
   "execution_count": 11,
   "metadata": {},
   "outputs": [],
   "source": [
    "# identify classes for words in all_count\n",
    "all_count['category'] = [nltk.pos_tag([word])[0][1] for word in all_count['word'] ]"
   ]
  },
  {
   "cell_type": "code",
   "execution_count": 12,
   "metadata": {},
   "outputs": [
    {
     "data": {
      "text/html": [
       "<div>\n",
       "<style scoped>\n",
       "    .dataframe tbody tr th:only-of-type {\n",
       "        vertical-align: middle;\n",
       "    }\n",
       "\n",
       "    .dataframe tbody tr th {\n",
       "        vertical-align: top;\n",
       "    }\n",
       "\n",
       "    .dataframe thead th {\n",
       "        text-align: right;\n",
       "    }\n",
       "</style>\n",
       "<table border=\"1\" class=\"dataframe\">\n",
       "  <thead>\n",
       "    <tr style=\"text-align: right;\">\n",
       "      <th></th>\n",
       "      <th>word</th>\n",
       "      <th>freq</th>\n",
       "      <th>category</th>\n",
       "    </tr>\n",
       "  </thead>\n",
       "  <tbody>\n",
       "    <tr>\n",
       "      <th>42</th>\n",
       "      <td>fridge</td>\n",
       "      <td>2473</td>\n",
       "      <td>NN</td>\n",
       "    </tr>\n",
       "    <tr>\n",
       "      <th>28</th>\n",
       "      <td>door</td>\n",
       "      <td>1823</td>\n",
       "      <td>NN</td>\n",
       "    </tr>\n",
       "    <tr>\n",
       "      <th>16</th>\n",
       "      <td>ice</td>\n",
       "      <td>1790</td>\n",
       "      <td>NN</td>\n",
       "    </tr>\n",
       "    <tr>\n",
       "      <th>102</th>\n",
       "      <td>refrigerator</td>\n",
       "      <td>1505</td>\n",
       "      <td>NN</td>\n",
       "    </tr>\n",
       "    <tr>\n",
       "      <th>47</th>\n",
       "      <td>part</td>\n",
       "      <td>1420</td>\n",
       "      <td>NN</td>\n",
       "    </tr>\n",
       "    <tr>\n",
       "      <th>45</th>\n",
       "      <td>review</td>\n",
       "      <td>1392</td>\n",
       "      <td>NN</td>\n",
       "    </tr>\n",
       "    <tr>\n",
       "      <th>36</th>\n",
       "      <td>freezer</td>\n",
       "      <td>1351</td>\n",
       "      <td>NN</td>\n",
       "    </tr>\n",
       "    <tr>\n",
       "      <th>37</th>\n",
       "      <td>love</td>\n",
       "      <td>1323</td>\n",
       "      <td>NN</td>\n",
       "    </tr>\n",
       "    <tr>\n",
       "      <th>48</th>\n",
       "      <td>promotion</td>\n",
       "      <td>1253</td>\n",
       "      <td>NN</td>\n",
       "    </tr>\n",
       "    <tr>\n",
       "      <th>46</th>\n",
       "      <td>collected</td>\n",
       "      <td>1252</td>\n",
       "      <td>VBN</td>\n",
       "    </tr>\n",
       "    <tr>\n",
       "      <th>9</th>\n",
       "      <td>water</td>\n",
       "      <td>1024</td>\n",
       "      <td>NN</td>\n",
       "    </tr>\n",
       "    <tr>\n",
       "      <th>12</th>\n",
       "      <td>great</td>\n",
       "      <td>1024</td>\n",
       "      <td>JJ</td>\n",
       "    </tr>\n",
       "    <tr>\n",
       "      <th>148</th>\n",
       "      <td>space</td>\n",
       "      <td>936</td>\n",
       "      <td>NN</td>\n",
       "    </tr>\n",
       "    <tr>\n",
       "      <th>19</th>\n",
       "      <td>one</td>\n",
       "      <td>904</td>\n",
       "      <td>CD</td>\n",
       "    </tr>\n",
       "    <tr>\n",
       "      <th>29</th>\n",
       "      <td>shelf</td>\n",
       "      <td>834</td>\n",
       "      <td>NN</td>\n",
       "    </tr>\n",
       "    <tr>\n",
       "      <th>96</th>\n",
       "      <td>like</td>\n",
       "      <td>766</td>\n",
       "      <td>IN</td>\n",
       "    </tr>\n",
       "    <tr>\n",
       "      <th>152</th>\n",
       "      <td>side</td>\n",
       "      <td>749</td>\n",
       "      <td>NN</td>\n",
       "    </tr>\n",
       "    <tr>\n",
       "      <th>78</th>\n",
       "      <td>bought</td>\n",
       "      <td>686</td>\n",
       "      <td>NN</td>\n",
       "    </tr>\n",
       "    <tr>\n",
       "      <th>39</th>\n",
       "      <td>maker</td>\n",
       "      <td>682</td>\n",
       "      <td>NN</td>\n",
       "    </tr>\n",
       "    <tr>\n",
       "      <th>5</th>\n",
       "      <td>drawer</td>\n",
       "      <td>633</td>\n",
       "      <td>NN</td>\n",
       "    </tr>\n",
       "  </tbody>\n",
       "</table>\n",
       "</div>"
      ],
      "text/plain": [
       "             word  freq category\n",
       "42         fridge  2473       NN\n",
       "28           door  1823       NN\n",
       "16            ice  1790       NN\n",
       "102  refrigerator  1505       NN\n",
       "47           part  1420       NN\n",
       "45         review  1392       NN\n",
       "36        freezer  1351       NN\n",
       "37           love  1323       NN\n",
       "48      promotion  1253       NN\n",
       "46      collected  1252      VBN\n",
       "9           water  1024       NN\n",
       "12          great  1024       JJ\n",
       "148         space   936       NN\n",
       "19            one   904       CD\n",
       "29          shelf   834       NN\n",
       "96           like   766       IN\n",
       "152          side   749       NN\n",
       "78         bought   686       NN\n",
       "39          maker   682       NN\n",
       "5          drawer   633       NN"
      ]
     },
     "execution_count": 12,
     "metadata": {},
     "output_type": "execute_result"
    }
   ],
   "source": [
    "# view all_count\n",
    "all_count[0:20]"
   ]
  },
  {
   "cell_type": "markdown",
   "metadata": {},
   "source": [
    "Com base nessa análise exploratória é possível levantar palavras de relevância nos reviews, que podem servir como aspetos a serem analisados e cruzados com outras variáveis para compreender com mais detalhes as avaliações. Nessa etapa, entrar em contato com alguém da empresa que contratou o serviço, ou um especialista no produto, seria de muito valor para mostrar o resultado acima e explorar os aspectos. No caso, com base nos resultados, defini os termos abaixo como sendo de potencial interesse para o produto."
   ]
  },
  {
   "cell_type": "code",
   "execution_count": 13,
   "metadata": {},
   "outputs": [],
   "source": [
    "features = ['door',\n",
    "            'ice',\n",
    "            'refrigerator',\n",
    "            'freezer',\n",
    "            'promotion',\n",
    "            'water',\n",
    "            'space',\n",
    "            'shelf',\n",
    "            'dispenser',\n",
    "            'time',\n",
    "            'size',\n",
    "            'problem',\n",
    "            'price',\n",
    "            'light',\n",
    "            'temperature',\n",
    "            'noise']"
   ]
  },
  {
   "cell_type": "markdown",
   "metadata": {},
   "source": [
    "Abaixo segue a criação de variáveis para realizar o cruzamento de informações. Uso o reconhecimento de classe gramatical do nltk para extrair adjetivos na review e fazer uma análise de sentimentos. Dessa forma é possível visualizar como os consumidores se sentem em relação a aspectos do produto como o a porta da geladeira, a luz, barulho, preço, espaço e etc."
   ]
  },
  {
   "cell_type": "code",
   "execution_count": 14,
   "metadata": {},
   "outputs": [],
   "source": [
    "def wordsInRow(words, token_row):\n",
    "    ''' indentify if words is in list of tokens,\n",
    "        return list with words intersected \n",
    "    '''\n",
    "    new_row = []\n",
    "    for word in words:\n",
    "        if word in token_row:\n",
    "            new_row.append(word)\n",
    "    return new_row"
   ]
  },
  {
   "cell_type": "code",
   "execution_count": 15,
   "metadata": {},
   "outputs": [],
   "source": [
    "# capture aspects in review\n",
    "data['review_aspects'] = data['review_body_token'].apply(lambda row: wordsInRow(features, row)) "
   ]
  },
  {
   "cell_type": "code",
   "execution_count": 16,
   "metadata": {},
   "outputs": [],
   "source": [
    "# capture adjectives in review\n",
    "adjectives = list(all_count['word'][all_count['category'] == 'JJ'])\n",
    "data['review_adjectives'] = data['review_body_token'].apply(lambda row: wordsInRow(adjectives, row)) "
   ]
  },
  {
   "cell_type": "code",
   "execution_count": 17,
   "metadata": {},
   "outputs": [],
   "source": [
    "# review user binary classification\n",
    "data['review_classification'] = [1 if x >= 4 else -1 for x in data['review_user_rating']]"
   ]
  },
  {
   "cell_type": "code",
   "execution_count": 18,
   "metadata": {},
   "outputs": [],
   "source": [
    "# reset index\n",
    "data.reset_index(inplace=True)"
   ]
  },
  {
   "cell_type": "markdown",
   "metadata": {},
   "source": [
    "# 2. Análise de Sentimentos"
   ]
  },
  {
   "cell_type": "markdown",
   "metadata": {},
   "source": [
    "Agora é possível executar uma busca de termos e adjetivos próximos aos aspectos para compreender o que as pessoas estão falando em relação a cada aspecto. Destaco ainda que esse processo poderia ser direcionado a uma marca específica ou produto específico apenas implementando um simples filtro e comparando com outras marcas, tendo a marca cliente como referência."
   ]
  },
  {
   "cell_type": "code",
   "execution_count": 19,
   "metadata": {},
   "outputs": [],
   "source": [
    "def ruledSentimentTextAgg(token_list, category, rule='near'):\n",
    "    ''' aggregate text in token list based on rules:\n",
    "        all - agg all tokens in list\n",
    "        next - agg tokens next to the word\n",
    "        near - agg tokens 3 words far from category word\n",
    "     '''\n",
    "    text = ''\n",
    "    for i in range(len(token_list)):\n",
    "        if category in token_list[i]:\n",
    "            row = token_list[i]\n",
    "            cat_index = row.index(category)\n",
    "            if rule == 'all':\n",
    "                for word in row:\n",
    "                    text = text + word + ' '  \n",
    "            if rule == 'next':\n",
    "                if cat_index > 0:\n",
    "                    text += row[cat_index-1] + ' '\n",
    "                if cat_index < (len(row)-1):\n",
    "                    text += row[cat_index+1] + ' '\n",
    "            if rule == 'near':\n",
    "                count_id = 0\n",
    "                while count_id < 3:\n",
    "                    try:\n",
    "                        word = row[cat_index+count_id]\n",
    "                        if nltk.pos_tag([word])[0][1] == 'JJ':\n",
    "                            text += word + ' '\n",
    "                    except:\n",
    "                        pass\n",
    "                    count_id += 1\n",
    "                count_id = 0    \n",
    "                while count_id > -3:\n",
    "                    try:\n",
    "                        word = row[cat_index+count_id]\n",
    "                        if nltk.pos_tag([word])[0][1] == 'JJ':\n",
    "                            text += word + ' '\n",
    "                    except:\n",
    "                        pass\n",
    "                    count_id -= 1\n",
    "    return text"
   ]
  },
  {
   "cell_type": "code",
   "execution_count": 20,
   "metadata": {},
   "outputs": [],
   "source": [
    "def wordcloudVisualization(text, max_words):\n",
    "    ''' generate wordcloud plot based on text entry\n",
    "    '''\n",
    "    %matplotlib inline\n",
    "    from wordcloud import WordCloud\n",
    "    import matplotlib.pyplot as plt\n",
    "    wordcloud = WordCloud(max_font_size=50, max_words=max_words, background_color=\"white\").generate(text)\n",
    "    plt.figure()\n",
    "    plt.imshow(wordcloud, interpolation=\"bilinear\")\n",
    "    plt.axis(\"off\")\n",
    "    plt.show()"
   ]
  },
  {
   "cell_type": "code",
   "execution_count": 21,
   "metadata": {},
   "outputs": [],
   "source": [
    "def aspectSentimentWordcloud(data, classification, aspect, max_words, rule='near'):\n",
    "    ''' execute the sentiment wordcloud analysis, \n",
    "        filter classification positive (1) or negative (-1), \n",
    "        combine ruledSentimentTextAgg and wordcloudVisualization\n",
    "    '''\n",
    "    data_posi = data[data['review_classification'] == classification].reset_index()\n",
    "    text = ruledSentimentTextAgg(data_posi['review_body_token'], aspect, rule)\n",
    "    wordcloudVisualization(text, max_words)"
   ]
  },
  {
   "cell_type": "markdown",
   "metadata": {},
   "source": [
    "Agora podemos descer ao nível do aspecto, para compreender o que está relacionado a ele de maneira profunda. Abaixo é gerado (1) uma nuvem de palavras com termos ao lado do termo 'ice', na qual é possível identificar que se está relacionado ao componente de fazer gelo da geladeira; (2) uma nuvem de palavras com os termos próximos do termo 'ice' em avaliações positivas, em que se observa adjetivos relevantes como 'easy', 'big', 'spacious', 'large', que denotam um interesse dos consumidores sobre um produtor de gelo grande; por fim (3) a terceira nuvem de palavras captura termos próximos a 'ice' em avaliações negativas, aqui podemos observar o destaque dos adjetivos 'small' e 'tiny', o que reforça o interesse dos consumidores sobre um produtor de gelo grande, ao mesmo tempo também é possível ver termos positivos mesmo em avaliações ruins como 'good' e 'great'. Esse mesmo modelo de análise pode ser replicado para qualquer outro termo apenas mudando o 'aspect' nas funções."
   ]
  },
  {
   "cell_type": "code",
   "execution_count": 22,
   "metadata": {},
   "outputs": [
    {
     "data": {
      "image/png": "[encoded data removed]",
      "text/plain": [
       "<Figure size 432x288 with 1 Axes>"
      ]
     },
     "metadata": {
      "needs_background": "light"
     },
     "output_type": "display_data"
    }
   ],
   "source": [
    "# POSITIVE TERMS IN NEXT WORDS\n",
    "aspectSentimentWordcloud(data, classification=1, aspect='ice', max_words=10, rule='next')"
   ]
  },
  {
   "cell_type": "code",
   "execution_count": 23,
   "metadata": {},
   "outputs": [
    {
     "data": {
      "image/png": "[encoded data removed]",
      "text/plain": [
       "<Figure size 432x288 with 1 Axes>"
      ]
     },
     "metadata": {
      "needs_background": "light"
     },
     "output_type": "display_data"
    }
   ],
   "source": [
    "# POSITIVE SENTIMENTS FOR 'ICE' IN NEAR WORDS\n",
    "aspectSentimentWordcloud(data, classification=1, aspect='ice', max_words=15, rule='near')"
   ]
  },
  {
   "cell_type": "code",
   "execution_count": 24,
   "metadata": {},
   "outputs": [
    {
     "data": {
      "image/png": "[encoded data removed]",
      "text/plain": [
       "<Figure size 432x288 with 1 Axes>"
      ]
     },
     "metadata": {
      "needs_background": "light"
     },
     "output_type": "display_data"
    }
   ],
   "source": [
    "# NEGATIVE SENTIMENTS FOR 'ICE' IN NEAR WORDS\n",
    "aspectSentimentWordcloud(data, classification=-1, aspect='ice', max_words=15, rule='near')"
   ]
  },
  {
   "cell_type": "markdown",
   "metadata": {},
   "source": [
    "# 3. Análise Temporal"
   ]
  },
  {
   "cell_type": "markdown",
   "metadata": {},
   "source": [
    "Com os dados de data e hora do comentário é possível explorar a avaliação dos usuários e cruzar com termos e outras variáveis para saber se há uma variação temporal na percepção dos usuários sobre distribuidoras (retailer), aspectos do produto ou a própria marca."
   ]
  },
  {
   "cell_type": "code",
   "execution_count": 25,
   "metadata": {},
   "outputs": [],
   "source": [
    "# transform day/month/year to week/month/year\n",
    "data['date_month'] = pd.to_datetime(data['review_year'], format='%Y') + \\\n",
    "             pd.to_timedelta(data['review_week'].mul(7).astype(str) + ' days')"
   ]
  },
  {
   "cell_type": "code",
   "execution_count": 26,
   "metadata": {},
   "outputs": [],
   "source": [
    "def aspectTimesSeries(df, token_column, aspect):\n",
    "    ''' preprocess times series data for a specific category (aspect)\n",
    "        in a column (token_column), generating positive porcent of reviews by week\n",
    "    '''\n",
    "    # select aspect data \n",
    "    data = df[df[token_column].apply(lambda x: aspect in x)]\n",
    "    # crate dict to append results\n",
    "    timeseries_positive = {'date':[],'positive_percent':[]}\n",
    "    # loop through weks\n",
    "    data['date_month'].unique()\n",
    "    for date in data['date_month'].unique():\n",
    "        # select date\n",
    "        date_data = data[data['date_month'] == date]\n",
    "        # calculate percent of positive reviews\n",
    "        date_count = pd.DataFrame(date_data[['review_classification']].groupby('review_classification').size()).reset_index()\n",
    "        date_count.columns=['review_classification', 'freq']\n",
    "        date_count['percent'] = round(date_count['freq'] / sum(date_count['freq'] ) *100, 2)\n",
    "        value = date_count['percent'][date_count['review_classification'] == 1]\n",
    "        try:\n",
    "            value = float(value)\n",
    "        except:\n",
    "            value = 0\n",
    "        # save in dict\n",
    "        timeseries_positive['positive_percent'].append(value)\n",
    "        timeseries_positive['date'].append(date)\n",
    "    # return df\n",
    "    timeseries_positive = pd.DataFrame(timeseries_positive).sort_values('date')\n",
    "    return timeseries_positive"
   ]
  },
  {
   "cell_type": "code",
   "execution_count": 27,
   "metadata": {},
   "outputs": [],
   "source": [
    "def layoutLine(min, max):\n",
    "    ''' define layout of line plot\n",
    "        based on min and max entries for y axis\n",
    "    '''\n",
    "    import plotly.graph_objs as go\n",
    "    layout = go.Layout( {'legend': {'bgcolor': '#F5F6F9', 'font': {'color': '#4D5663'}},\n",
    "                   'paper_bgcolor': '#F5F6F9', 'plot_bgcolor': '#F5F6F9',\n",
    "                   'title': {'font': {'color': '#4D5663'}},\n",
    "                   'xaxis': {'gridcolor': '#E1E5ED', 'showgrid': True, 'tickfont': {'color': '#4D5663'},\n",
    "                             'title': {'font': {'color': '#4D5663'}, 'text': ''}, 'zerolinecolor': '#E1E5ED'},\n",
    "                   'yaxis': {'gridcolor': '#E1E5ED', 'range' : (min, max),'showgrid': True, 'tickfont': {'color': '#4D5663'},\n",
    "                             'title': {'font': {'color': '#4D5663'}, 'text': ''}, 'zerolinecolor': '#E1E5ED'}})\n",
    "    return layout"
   ]
  },
  {
   "cell_type": "code",
   "execution_count": 28,
   "metadata": {},
   "outputs": [],
   "source": [
    "def timesSeriesVisualization(data, bestfit=True):\n",
    "    ''' execute plotly timeseries visualization\n",
    "        based on date and positive percentage of reviews\n",
    "        and generate regression line\n",
    "    '''\n",
    "    # modules\n",
    "    import plotly.graph_objs as go\n",
    "    import plotly.offline as py\n",
    "    from plotly.offline import download_plotlyjs, init_notebook_mode, plot, iplot \n",
    "    import cufflinks as cf  \n",
    "    # set notebook and offline config\n",
    "    %matplotlib inline\n",
    "    init_notebook_mode(connected=True)  \n",
    "    cf.go_offline()\n",
    "    # layout\n",
    "    layout = layoutLine(0, 100)\n",
    "    # visualization\n",
    "    data.iplot(x = 'date',\n",
    "               y='positive_percent' , \n",
    "               mode='lines+markers',\n",
    "               size = 8,\n",
    "               bestfit=bestfit,\n",
    "               colors=['#87cded'],\n",
    "               bestfit_colors=['pink'],\n",
    "               layout=layout.to_plotly_json(),\n",
    "               filename='test')"
   ]
  },
  {
   "cell_type": "markdown",
   "metadata": {},
   "source": [
    "Nos gráficos abaixo é possível observar a porcentagem de reviews positivas relacionadas a um determinado aspecto ou categoria de uma variável (em azul), em conjunto com uma reta de regressão que sinaliza a tendência geral da distribuição. O retailer lowes apresenta uma tendência positiva de avaliações enquanto homedepot apresenta uma tendência negativa. Entretanto vale salientar que essa tendência não aparenta ser muito expressiva, sendo necessário testes estatísticos ou modelos de previsão de séries temporais para capturar melhorar essa tendência, pois a variação mostrada pode ser aleatória. Talvez, se houvessem mais dados para trás no tempo poderíamos enxergar melhor uma tendência."
   ]
  },
  {
   "cell_type": "markdown",
   "metadata": {},
   "source": [
    "ps: por serem interativos, os gráficos de linha abaixo podem não abrir diretamente no github, por isso enviei os resultados em anexo também"
   ]
  },
  {
   "cell_type": "code",
   "execution_count": 29,
   "metadata": {},
   "outputs": [
    {
     "data": {
      "text/html": [
       "        <script type=\"text/javascript\">\n",
       "        window.PlotlyConfig = {MathJaxConfig: 'local'};\n",
       "        if (window.MathJax) {MathJax.Hub.Config({SVG: {font: \"STIX-Web\"}});}\n",
       "        if (typeof require !== 'undefined') {\n",
       "        require.undef(\"plotly\");\n",
       "        requirejs.config({\n",
       "            paths: {\n",
       "                'plotly': ['https://cdn.plot.ly/plotly-latest.min']\n",
       "            }\n",
       "        });\n",
       "        require(['plotly'], function(Plotly) {\n",
       "            window._Plotly = Plotly;\n",
       "        });\n",
       "        }\n",
       "        </script>\n",
       "        "
      ]
     },
     "metadata": {},
     "output_type": "display_data"
    },
    {
     "data": {
      "text/html": [
       "        <script type=\"text/javascript\">\n",
       "        window.PlotlyConfig = {MathJaxConfig: 'local'};\n",
       "        if (window.MathJax) {MathJax.Hub.Config({SVG: {font: \"STIX-Web\"}});}\n",
       "        if (typeof require !== 'undefined') {\n",
       "        require.undef(\"plotly\");\n",
       "        requirejs.config({\n",
       "            paths: {\n",
       "                'plotly': ['https://cdn.plot.ly/plotly-latest.min']\n",
       "            }\n",
       "        });\n",
       "        require(['plotly'], function(Plotly) {\n",
       "            window._Plotly = Plotly;\n",
       "        });\n",
       "        }\n",
       "        </script>\n",
       "        "
      ]
     },
     "metadata": {},
     "output_type": "display_data"
    },
    {
     "data": {
      "application/vnd.plotly.v1+json": {
       "config": {
        "linkText": "Export to plot.ly",
        "plotlyServerURL": "https://plot.ly",
        "showLink": true
       },
       "data": [
        {
         "line": {
          "color": "rgba(135, 205, 237, 1.0)",
          "dash": "solid",
          "shape": "linear",
          "width": 1.3
         },
         "marker": {
          "size": 8,
          "symbol": "circle"
         },
         "mode": "lines+markers",
         "name": "positive_percent",
         "text": "",
         "type": "scatter",
         "uid": "2a81afe9-8323-4ace-8ff8-df1854393bc4",
         "x": [
          "2019-01-08",
          "2019-01-15",
          "2019-01-22",
          "2019-01-29",
          "2019-02-05",
          "2019-02-12",
          "2019-02-19",
          "2019-02-26",
          "2019-03-05",
          "2019-03-12",
          "2019-03-19",
          "2019-03-26",
          "2019-04-02",
          "2019-04-09",
          "2019-04-16",
          "2019-04-23",
          "2019-04-30",
          "2019-05-07",
          "2019-05-14",
          "2019-05-21",
          "2019-05-28",
          "2019-06-04",
          "2019-06-11",
          "2019-06-18",
          "2019-06-25",
          "2019-07-02",
          "2019-07-09",
          "2019-07-16",
          "2019-07-23",
          "2019-07-30",
          "2019-08-06",
          "2019-08-13",
          "2019-08-20",
          "2019-08-27",
          "2019-09-03",
          "2019-09-10",
          "2019-09-17",
          "2019-09-24",
          "2019-10-01",
          "2019-10-08",
          "2019-10-15",
          "2019-10-22",
          "2019-10-29",
          "2019-11-05",
          "2019-11-12",
          "2019-11-19",
          "2019-11-26",
          "2019-12-03",
          "2019-12-10",
          "2019-12-17",
          "2019-12-24",
          "2019-12-31",
          "2020-01-08",
          "2020-01-15",
          "2020-01-22",
          "2020-01-29",
          "2020-02-05",
          "2020-02-12",
          "2020-02-19",
          "2020-02-26",
          "2020-03-04",
          "2020-03-11",
          "2020-03-18",
          "2020-03-25",
          "2020-04-01",
          "2020-04-08",
          "2020-04-15",
          "2020-04-22",
          "2020-04-29",
          "2020-05-06",
          "2020-05-13",
          "2020-05-20",
          "2020-05-27",
          "2020-06-03",
          "2020-06-10"
         ],
         "y": [
          85.71,
          80,
          66.67,
          66.67,
          60,
          85.71,
          100,
          72.73,
          60,
          85.71,
          90.91,
          71.43,
          90.91,
          63.64,
          85.71,
          55.56,
          81.82,
          72.73,
          88.89,
          75,
          60,
          50,
          80,
          81.25,
          60,
          80,
          87.5,
          75,
          71.43,
          64.71,
          66.67,
          93.75,
          86.36,
          86.36,
          85,
          80,
          74.07,
          70.83,
          76.47,
          71.43,
          83.33,
          81.25,
          88.24,
          86.67,
          64.29,
          68.75,
          87.5,
          81.25,
          78.57,
          90,
          76.19,
          90.48,
          81.82,
          65,
          75,
          85,
          90.91,
          80,
          84,
          68.18,
          69.23,
          85.71,
          93.75,
          92.31,
          85.71,
          79.31,
          93.33,
          76.47,
          85.71,
          63.64,
          70,
          90,
          61.9,
          75,
          60
         ]
        },
        {
         "line": {
          "color": "rgba(255, 0, 136, 1.0)",
          "dash": "dash",
          "shape": "linear",
          "width": 3
         },
         "mode": "lines",
         "name": "75.65*x+0.05",
         "type": "scatter",
         "uid": "59af1fea-b76e-44f0-8891-4f88c1fab02e",
         "x": [
          "2019-01-08",
          "2019-01-15",
          "2019-01-22",
          "2019-01-29",
          "2019-02-05",
          "2019-02-12",
          "2019-02-19",
          "2019-02-26",
          "2019-03-05",
          "2019-03-12",
          "2019-03-19",
          "2019-03-26",
          "2019-04-02",
          "2019-04-09",
          "2019-04-16",
          "2019-04-23",
          "2019-04-30",
          "2019-05-07",
          "2019-05-14",
          "2019-05-21",
          "2019-05-28",
          "2019-06-04",
          "2019-06-11",
          "2019-06-18",
          "2019-06-25",
          "2019-07-02",
          "2019-07-09",
          "2019-07-16",
          "2019-07-23",
          "2019-07-30",
          "2019-08-06",
          "2019-08-13",
          "2019-08-20",
          "2019-08-27",
          "2019-09-03",
          "2019-09-10",
          "2019-09-17",
          "2019-09-24",
          "2019-10-01",
          "2019-10-08",
          "2019-10-15",
          "2019-10-22",
          "2019-10-29",
          "2019-11-05",
          "2019-11-12",
          "2019-11-19",
          "2019-11-26",
          "2019-12-03",
          "2019-12-10",
          "2019-12-17",
          "2019-12-24",
          "2019-12-31",
          "2020-01-08",
          "2020-01-15",
          "2020-01-22",
          "2020-01-29",
          "2020-02-05",
          "2020-02-12",
          "2020-02-19",
          "2020-02-26",
          "2020-03-04",
          "2020-03-11",
          "2020-03-18",
          "2020-03-25",
          "2020-04-01",
          "2020-04-08",
          "2020-04-15",
          "2020-04-22",
          "2020-04-29",
          "2020-05-06",
          "2020-05-13",
          "2020-05-20",
          "2020-05-27",
          "2020-06-03",
          "2020-06-10"
         ],
         "y": [
          75.70074385964911,
          75.7553651967757,
          75.8099865339023,
          75.8646078710289,
          75.9192292081555,
          75.9738505452821,
          76.0284718824087,
          76.0830932195353,
          76.13771455666189,
          76.1923358937885,
          76.2469572309151,
          76.30157856804169,
          76.3561999051683,
          76.4108212422949,
          76.46544257942149,
          76.5200639165481,
          76.57468525367469,
          76.62930659080129,
          76.6839279279279,
          76.73854926505449,
          76.79317060218109,
          76.84779193930768,
          76.90241327643429,
          76.9570346135609,
          77.01165595068748,
          77.06627728781409,
          77.12089862494068,
          77.17551996206728,
          77.23014129919389,
          77.28476263632048,
          77.33938397344708,
          77.39400531057368,
          77.44862664770028,
          77.50324798482688,
          77.55786932195348,
          77.61249065908008,
          77.66711199620669,
          77.72173333333328,
          77.77635467045988,
          77.83097600758647,
          77.88559734471308,
          77.94021868183968,
          77.99484001896627,
          78.04946135609288,
          78.10408269321947,
          78.15870403034607,
          78.21332536747268,
          78.26794670459927,
          78.32256804172587,
          78.37718937885246,
          78.43181071597907,
          78.48643205310567,
          78.54105339023226,
          78.59567472735887,
          78.65029606448547,
          78.70491740161206,
          78.75953873873867,
          78.81416007586526,
          78.86878141299186,
          78.92340275011847,
          78.97802408724506,
          79.03264542437167,
          79.08726676149826,
          79.14188809862486,
          79.19650943575147,
          79.25113077287806,
          79.30575211000466,
          79.36037344713125,
          79.41499478425786,
          79.46961612138446,
          79.52423745851105,
          79.57885879563766,
          79.63348013276425,
          79.68810146989085,
          79.74272280701746
         ]
        }
       ],
       "layout": {
        "legend": {
         "bgcolor": "#F5F6F9",
         "font": {
          "color": "#4D5663"
         }
        },
        "paper_bgcolor": "#F5F6F9",
        "plot_bgcolor": "#F5F6F9",
        "title": {
         "font": {
          "color": "#4D5663"
         }
        },
        "xaxis": {
         "gridcolor": "#E1E5ED",
         "showgrid": true,
         "tickfont": {
          "color": "#4D5663"
         },
         "title": {
          "font": {
           "color": "#4D5663"
          },
          "text": ""
         },
         "zerolinecolor": "#E1E5ED"
        },
        "yaxis": {
         "gridcolor": "#E1E5ED",
         "range": [
          0,
          100
         ],
         "showgrid": true,
         "tickfont": {
          "color": "#4D5663"
         },
         "title": {
          "font": {
           "color": "#4D5663"
          },
          "text": ""
         },
         "zerolinecolor": "#E1E5ED"
        }
       }
      },
      "text/html": [
       "<div>\n",
       "        \n",
       "        \n",
       "            <div id=\"f02d70d1-35eb-4055-978e-ea77208e3408\" class=\"plotly-graph-div\" style=\"height:525px; width:100%;\"></div>\n",
       "            <script type=\"text/javascript\">\n",
       "                require([\"plotly\"], function(Plotly) {\n",
       "                    window.PLOTLYENV=window.PLOTLYENV || {};\n",
       "                    window.PLOTLYENV.BASE_URL='https://plot.ly';\n",
       "                    \n",
       "                if (document.getElementById(\"f02d70d1-35eb-4055-978e-ea77208e3408\")) {\n",
       "                    Plotly.newPlot(\n",
       "                        'f02d70d1-35eb-4055-978e-ea77208e3408',\n",
       "                        [{\"line\": {\"color\": \"rgba(135, 205, 237, 1.0)\", \"dash\": \"solid\", \"shape\": \"linear\", \"width\": 1.3}, \"marker\": {\"size\": 8, \"symbol\": \"circle\"}, \"mode\": \"lines+markers\", \"name\": \"positive_percent\", \"text\": \"\", \"type\": \"scatter\", \"uid\": \"2a81afe9-8323-4ace-8ff8-df1854393bc4\", \"x\": [\"2019-01-08\", \"2019-01-15\", \"2019-01-22\", \"2019-01-29\", \"2019-02-05\", \"2019-02-12\", \"2019-02-19\", \"2019-02-26\", \"2019-03-05\", \"2019-03-12\", \"2019-03-19\", \"2019-03-26\", \"2019-04-02\", \"2019-04-09\", \"2019-04-16\", \"2019-04-23\", \"2019-04-30\", \"2019-05-07\", \"2019-05-14\", \"2019-05-21\", \"2019-05-28\", \"2019-06-04\", \"2019-06-11\", \"2019-06-18\", \"2019-06-25\", \"2019-07-02\", \"2019-07-09\", \"2019-07-16\", \"2019-07-23\", \"2019-07-30\", \"2019-08-06\", \"2019-08-13\", \"2019-08-20\", \"2019-08-27\", \"2019-09-03\", \"2019-09-10\", \"2019-09-17\", \"2019-09-24\", \"2019-10-01\", \"2019-10-08\", \"2019-10-15\", \"2019-10-22\", \"2019-10-29\", \"2019-11-05\", \"2019-11-12\", \"2019-11-19\", \"2019-11-26\", \"2019-12-03\", \"2019-12-10\", \"2019-12-17\", \"2019-12-24\", \"2019-12-31\", \"2020-01-08\", \"2020-01-15\", \"2020-01-22\", \"2020-01-29\", \"2020-02-05\", \"2020-02-12\", \"2020-02-19\", \"2020-02-26\", \"2020-03-04\", \"2020-03-11\", \"2020-03-18\", \"2020-03-25\", \"2020-04-01\", \"2020-04-08\", \"2020-04-15\", \"2020-04-22\", \"2020-04-29\", \"2020-05-06\", \"2020-05-13\", \"2020-05-20\", \"2020-05-27\", \"2020-06-03\", \"2020-06-10\"], \"y\": [85.71, 80.0, 66.67, 66.67, 60.0, 85.71, 100.0, 72.73, 60.0, 85.71, 90.91, 71.43, 90.91, 63.64, 85.71, 55.56, 81.82, 72.73, 88.89, 75.0, 60.0, 50.0, 80.0, 81.25, 60.0, 80.0, 87.5, 75.0, 71.43, 64.71, 66.67, 93.75, 86.36, 86.36, 85.0, 80.0, 74.07, 70.83, 76.47, 71.43, 83.33, 81.25, 88.24, 86.67, 64.29, 68.75, 87.5, 81.25, 78.57, 90.0, 76.19, 90.48, 81.82, 65.0, 75.0, 85.0, 90.91, 80.0, 84.0, 68.18, 69.23, 85.71, 93.75, 92.31, 85.71, 79.31, 93.33, 76.47, 85.71, 63.64, 70.0, 90.0, 61.9, 75.0, 60.0]}, {\"line\": {\"color\": \"rgba(255, 0, 136, 1.0)\", \"dash\": \"dash\", \"shape\": \"linear\", \"width\": 3}, \"mode\": \"lines\", \"name\": \"75.65*x+0.05\", \"type\": \"scatter\", \"uid\": \"59af1fea-b76e-44f0-8891-4f88c1fab02e\", \"x\": [\"2019-01-08\", \"2019-01-15\", \"2019-01-22\", \"2019-01-29\", \"2019-02-05\", \"2019-02-12\", \"2019-02-19\", \"2019-02-26\", \"2019-03-05\", \"2019-03-12\", \"2019-03-19\", \"2019-03-26\", \"2019-04-02\", \"2019-04-09\", \"2019-04-16\", \"2019-04-23\", \"2019-04-30\", \"2019-05-07\", \"2019-05-14\", \"2019-05-21\", \"2019-05-28\", \"2019-06-04\", \"2019-06-11\", \"2019-06-18\", \"2019-06-25\", \"2019-07-02\", \"2019-07-09\", \"2019-07-16\", \"2019-07-23\", \"2019-07-30\", \"2019-08-06\", \"2019-08-13\", \"2019-08-20\", \"2019-08-27\", \"2019-09-03\", \"2019-09-10\", \"2019-09-17\", \"2019-09-24\", \"2019-10-01\", \"2019-10-08\", \"2019-10-15\", \"2019-10-22\", \"2019-10-29\", \"2019-11-05\", \"2019-11-12\", \"2019-11-19\", \"2019-11-26\", \"2019-12-03\", \"2019-12-10\", \"2019-12-17\", \"2019-12-24\", \"2019-12-31\", \"2020-01-08\", \"2020-01-15\", \"2020-01-22\", \"2020-01-29\", \"2020-02-05\", \"2020-02-12\", \"2020-02-19\", \"2020-02-26\", \"2020-03-04\", \"2020-03-11\", \"2020-03-18\", \"2020-03-25\", \"2020-04-01\", \"2020-04-08\", \"2020-04-15\", \"2020-04-22\", \"2020-04-29\", \"2020-05-06\", \"2020-05-13\", \"2020-05-20\", \"2020-05-27\", \"2020-06-03\", \"2020-06-10\"], \"y\": [75.70074385964911, 75.7553651967757, 75.8099865339023, 75.8646078710289, 75.9192292081555, 75.9738505452821, 76.0284718824087, 76.0830932195353, 76.13771455666189, 76.1923358937885, 76.2469572309151, 76.30157856804169, 76.3561999051683, 76.4108212422949, 76.46544257942149, 76.5200639165481, 76.57468525367469, 76.62930659080129, 76.6839279279279, 76.73854926505449, 76.79317060218109, 76.84779193930768, 76.90241327643429, 76.9570346135609, 77.01165595068748, 77.06627728781409, 77.12089862494068, 77.17551996206728, 77.23014129919389, 77.28476263632048, 77.33938397344708, 77.39400531057368, 77.44862664770028, 77.50324798482688, 77.55786932195348, 77.61249065908008, 77.66711199620669, 77.72173333333328, 77.77635467045988, 77.83097600758647, 77.88559734471308, 77.94021868183968, 77.99484001896627, 78.04946135609288, 78.10408269321947, 78.15870403034607, 78.21332536747268, 78.26794670459927, 78.32256804172587, 78.37718937885246, 78.43181071597907, 78.48643205310567, 78.54105339023226, 78.59567472735887, 78.65029606448547, 78.70491740161206, 78.75953873873867, 78.81416007586526, 78.86878141299186, 78.92340275011847, 78.97802408724506, 79.03264542437167, 79.08726676149826, 79.14188809862486, 79.19650943575147, 79.25113077287806, 79.30575211000466, 79.36037344713125, 79.41499478425786, 79.46961612138446, 79.52423745851105, 79.57885879563766, 79.63348013276425, 79.68810146989085, 79.74272280701746]}],\n",
       "                        {\"legend\": {\"bgcolor\": \"#F5F6F9\", \"font\": {\"color\": \"#4D5663\"}}, \"paper_bgcolor\": \"#F5F6F9\", \"plot_bgcolor\": \"#F5F6F9\", \"title\": {\"font\": {\"color\": \"#4D5663\"}}, \"xaxis\": {\"gridcolor\": \"#E1E5ED\", \"showgrid\": true, \"tickfont\": {\"color\": \"#4D5663\"}, \"title\": {\"font\": {\"color\": \"#4D5663\"}, \"text\": \"\"}, \"zerolinecolor\": \"#E1E5ED\"}, \"yaxis\": {\"gridcolor\": \"#E1E5ED\", \"range\": [0, 100], \"showgrid\": true, \"tickfont\": {\"color\": \"#4D5663\"}, \"title\": {\"font\": {\"color\": \"#4D5663\"}, \"text\": \"\"}, \"zerolinecolor\": \"#E1E5ED\"}},\n",
       "                        {\"showLink\": true, \"linkText\": \"Export to plot.ly\", \"plotlyServerURL\": \"https://plot.ly\", \"responsive\": true}\n",
       "                    ).then(function(){\n",
       "                            \n",
       "var gd = document.getElementById('f02d70d1-35eb-4055-978e-ea77208e3408');\n",
       "var x = new MutationObserver(function (mutations, observer) {{\n",
       "        var display = window.getComputedStyle(gd).display;\n",
       "        if (!display || display === 'none') {{\n",
       "            console.log([gd, 'removed!']);\n",
       "            Plotly.purge(gd);\n",
       "            observer.disconnect();\n",
       "        }}\n",
       "}});\n",
       "\n",
       "// Listen for the removal of the full notebook cells\n",
       "var notebookContainer = gd.closest('#notebook-container');\n",
       "if (notebookContainer) {{\n",
       "    x.observe(notebookContainer, {childList: true});\n",
       "}}\n",
       "\n",
       "// Listen for the clearing of the current output cell\n",
       "var outputEl = gd.closest('.output');\n",
       "if (outputEl) {{\n",
       "    x.observe(outputEl, {childList: true});\n",
       "}}\n",
       "\n",
       "                        })\n",
       "                };\n",
       "                });\n",
       "            </script>\n",
       "        </div>"
      ]
     },
     "metadata": {},
     "output_type": "display_data"
    }
   ],
   "source": [
    "# RETAILER 'LOWES'\n",
    "date_eval2 = aspectTimesSeries(data,token_column='retailer',aspect= 'lowes')\n",
    "timesSeriesVisualization(date_eval2)"
   ]
  },
  {
   "cell_type": "code",
   "execution_count": 30,
   "metadata": {},
   "outputs": [
    {
     "data": {
      "text/html": [
       "        <script type=\"text/javascript\">\n",
       "        window.PlotlyConfig = {MathJaxConfig: 'local'};\n",
       "        if (window.MathJax) {MathJax.Hub.Config({SVG: {font: \"STIX-Web\"}});}\n",
       "        if (typeof require !== 'undefined') {\n",
       "        require.undef(\"plotly\");\n",
       "        requirejs.config({\n",
       "            paths: {\n",
       "                'plotly': ['https://cdn.plot.ly/plotly-latest.min']\n",
       "            }\n",
       "        });\n",
       "        require(['plotly'], function(Plotly) {\n",
       "            window._Plotly = Plotly;\n",
       "        });\n",
       "        }\n",
       "        </script>\n",
       "        "
      ]
     },
     "metadata": {},
     "output_type": "display_data"
    },
    {
     "data": {
      "text/html": [
       "        <script type=\"text/javascript\">\n",
       "        window.PlotlyConfig = {MathJaxConfig: 'local'};\n",
       "        if (window.MathJax) {MathJax.Hub.Config({SVG: {font: \"STIX-Web\"}});}\n",
       "        if (typeof require !== 'undefined') {\n",
       "        require.undef(\"plotly\");\n",
       "        requirejs.config({\n",
       "            paths: {\n",
       "                'plotly': ['https://cdn.plot.ly/plotly-latest.min']\n",
       "            }\n",
       "        });\n",
       "        require(['plotly'], function(Plotly) {\n",
       "            window._Plotly = Plotly;\n",
       "        });\n",
       "        }\n",
       "        </script>\n",
       "        "
      ]
     },
     "metadata": {},
     "output_type": "display_data"
    },
    {
     "data": {
      "application/vnd.plotly.v1+json": {
       "config": {
        "linkText": "Export to plot.ly",
        "plotlyServerURL": "https://plot.ly",
        "showLink": true
       },
       "data": [
        {
         "line": {
          "color": "rgba(135, 205, 237, 1.0)",
          "dash": "solid",
          "shape": "linear",
          "width": 1.3
         },
         "marker": {
          "size": 8,
          "symbol": "circle"
         },
         "mode": "lines+markers",
         "name": "positive_percent",
         "text": "",
         "type": "scatter",
         "uid": "5a42719b-e936-46fa-b89f-a9855df4ef7f",
         "x": [
          "2019-01-08",
          "2019-01-15",
          "2019-01-22",
          "2019-01-29",
          "2019-02-05",
          "2019-02-12",
          "2019-02-19",
          "2019-02-26",
          "2019-03-05",
          "2019-03-12",
          "2019-03-19",
          "2019-03-26",
          "2019-04-02",
          "2019-04-09",
          "2019-04-16",
          "2019-04-23",
          "2019-04-30",
          "2019-05-07",
          "2019-05-14",
          "2019-05-21",
          "2019-05-28",
          "2019-06-04",
          "2019-06-11",
          "2019-06-18",
          "2019-06-25",
          "2019-07-02",
          "2019-07-09",
          "2019-07-16",
          "2019-07-23",
          "2019-07-30",
          "2019-08-06",
          "2019-08-13",
          "2019-08-20",
          "2019-08-27",
          "2019-09-03",
          "2019-09-10",
          "2019-09-17",
          "2019-09-24",
          "2019-10-01",
          "2019-10-08",
          "2019-10-15",
          "2019-10-22",
          "2019-10-29",
          "2019-11-05",
          "2019-11-12",
          "2019-11-19",
          "2019-11-26",
          "2019-12-03",
          "2019-12-10",
          "2019-12-17",
          "2019-12-24",
          "2019-12-31",
          "2020-01-08",
          "2020-01-15",
          "2020-01-22",
          "2020-01-29",
          "2020-02-05",
          "2020-02-12",
          "2020-02-19",
          "2020-02-26",
          "2020-03-04",
          "2020-03-11",
          "2020-03-18",
          "2020-03-25",
          "2020-04-01",
          "2020-04-08",
          "2020-04-15",
          "2020-04-22",
          "2020-04-29",
          "2020-05-06",
          "2020-05-13",
          "2020-05-20",
          "2020-05-27",
          "2020-06-03",
          "2020-06-10"
         ],
         "y": [
          82.26,
          100,
          88,
          70.83,
          72.41,
          72.41,
          84.21,
          68.18,
          78.95,
          95.65,
          78.26,
          77.27,
          92.86,
          85.71,
          77.78,
          76.92,
          84.21,
          78.79,
          80.95,
          88.89,
          88,
          77.78,
          87.5,
          75,
          77.5,
          65.62,
          63.33,
          83.33,
          77.08,
          83.33,
          72,
          73.68,
          80.36,
          82.61,
          71.11,
          75.68,
          64.29,
          76.67,
          73.47,
          77.5,
          79.25,
          82.05,
          72.34,
          88.37,
          82.86,
          68.29,
          74.19,
          75,
          81.82,
          88.68,
          75.44,
          76.32,
          80,
          78.43,
          84.85,
          72.73,
          65,
          68.75,
          82,
          87.76,
          76.79,
          77.14,
          73.68,
          77.14,
          81.13,
          83.56,
          77.78,
          84.81,
          72.46,
          77.61,
          84.38,
          78.57,
          83.33,
          81.69,
          63.64
         ]
        },
        {
         "line": {
          "color": "rgba(255, 0, 136, 1.0)",
          "dash": "dash",
          "shape": "linear",
          "width": 3
         },
         "mode": "lines",
         "name": "80.71*x+-0.05",
         "type": "scatter",
         "uid": "7513bb43-4d6c-44ba-829c-f154aff9d4fb",
         "x": [
          "2019-01-08",
          "2019-01-15",
          "2019-01-22",
          "2019-01-29",
          "2019-02-05",
          "2019-02-12",
          "2019-02-19",
          "2019-02-26",
          "2019-03-05",
          "2019-03-12",
          "2019-03-19",
          "2019-03-26",
          "2019-04-02",
          "2019-04-09",
          "2019-04-16",
          "2019-04-23",
          "2019-04-30",
          "2019-05-07",
          "2019-05-14",
          "2019-05-21",
          "2019-05-28",
          "2019-06-04",
          "2019-06-11",
          "2019-06-18",
          "2019-06-25",
          "2019-07-02",
          "2019-07-09",
          "2019-07-16",
          "2019-07-23",
          "2019-07-30",
          "2019-08-06",
          "2019-08-13",
          "2019-08-20",
          "2019-08-27",
          "2019-09-03",
          "2019-09-10",
          "2019-09-17",
          "2019-09-24",
          "2019-10-01",
          "2019-10-08",
          "2019-10-15",
          "2019-10-22",
          "2019-10-29",
          "2019-11-05",
          "2019-11-12",
          "2019-11-19",
          "2019-11-26",
          "2019-12-03",
          "2019-12-10",
          "2019-12-17",
          "2019-12-24",
          "2019-12-31",
          "2020-01-08",
          "2020-01-15",
          "2020-01-22",
          "2020-01-29",
          "2020-02-05",
          "2020-02-12",
          "2020-02-19",
          "2020-02-26",
          "2020-03-04",
          "2020-03-11",
          "2020-03-18",
          "2020-03-25",
          "2020-04-01",
          "2020-04-08",
          "2020-04-15",
          "2020-04-22",
          "2020-04-29",
          "2020-05-06",
          "2020-05-13",
          "2020-05-20",
          "2020-05-27",
          "2020-06-03",
          "2020-06-10"
         ],
         "y": [
          80.659449122807,
          80.60494869606447,
          80.55044826932195,
          80.49594784257941,
          80.44144741583688,
          80.38694698909434,
          80.33244656235182,
          80.27794613560928,
          80.22344570886675,
          80.16894528212421,
          80.11444485538169,
          80.05994442863916,
          80.00544400189662,
          79.95094357515408,
          79.89644314841156,
          79.84194272166903,
          79.78744229492649,
          79.73294186818396,
          79.67844144144142,
          79.6239410146989,
          79.56944058795636,
          79.51494016121383,
          79.4604397344713,
          79.40593930772877,
          79.35143888098624,
          79.2969384542437,
          79.24243802750117,
          79.18793760075864,
          79.13343717401611,
          79.07893674727357,
          79.02443632053104,
          78.96993589378852,
          78.91543546704598,
          78.86093504030345,
          78.80643461356091,
          78.75193418681837,
          78.69743376007585,
          78.64293333333332,
          78.58843290659078,
          78.53393247984825,
          78.47943205310573,
          78.42493162636319,
          78.37043119962065,
          78.31593077287812,
          78.2614303461356,
          78.20692991939306,
          78.15242949265053,
          78.09792906590799,
          78.04342863916546,
          77.98892821242293,
          77.9344277856804,
          77.87992735893786,
          77.82542693219533,
          77.7709265054528,
          77.71642607871027,
          77.66192565196774,
          77.6074252252252,
          77.55292479848268,
          77.49842437174014,
          77.44392394499761,
          77.38942351825507,
          77.33492309151255,
          77.28042266477001,
          77.22592223802748,
          77.17142181128494,
          77.11692138454241,
          77.06242095779989,
          77.00792053105735,
          76.95342010431482,
          76.89891967757228,
          76.84441925082976,
          76.78991882408722,
          76.73541839734469,
          76.68091797060215,
          76.62641754385963
         ]
        }
       ],
       "layout": {
        "legend": {
         "bgcolor": "#F5F6F9",
         "font": {
          "color": "#4D5663"
         }
        },
        "paper_bgcolor": "#F5F6F9",
        "plot_bgcolor": "#F5F6F9",
        "title": {
         "font": {
          "color": "#4D5663"
         }
        },
        "xaxis": {
         "gridcolor": "#E1E5ED",
         "showgrid": true,
         "tickfont": {
          "color": "#4D5663"
         },
         "title": {
          "font": {
           "color": "#4D5663"
          },
          "text": ""
         },
         "zerolinecolor": "#E1E5ED"
        },
        "yaxis": {
         "gridcolor": "#E1E5ED",
         "range": [
          0,
          100
         ],
         "showgrid": true,
         "tickfont": {
          "color": "#4D5663"
         },
         "title": {
          "font": {
           "color": "#4D5663"
          },
          "text": ""
         },
         "zerolinecolor": "#E1E5ED"
        }
       }
      },
      "text/html": [
       "<div>\n",
       "        \n",
       "        \n",
       "            <div id=\"6bac0f4b-efea-446d-b36c-a0172a5d86d4\" class=\"plotly-graph-div\" style=\"height:525px; width:100%;\"></div>\n",
       "            <script type=\"text/javascript\">\n",
       "                require([\"plotly\"], function(Plotly) {\n",
       "                    window.PLOTLYENV=window.PLOTLYENV || {};\n",
       "                    window.PLOTLYENV.BASE_URL='https://plot.ly';\n",
       "                    \n",
       "                if (document.getElementById(\"6bac0f4b-efea-446d-b36c-a0172a5d86d4\")) {\n",
       "                    Plotly.newPlot(\n",
       "                        '6bac0f4b-efea-446d-b36c-a0172a5d86d4',\n",
       "                        [{\"line\": {\"color\": \"rgba(135, 205, 237, 1.0)\", \"dash\": \"solid\", \"shape\": \"linear\", \"width\": 1.3}, \"marker\": {\"size\": 8, \"symbol\": \"circle\"}, \"mode\": \"lines+markers\", \"name\": \"positive_percent\", \"text\": \"\", \"type\": \"scatter\", \"uid\": \"5a42719b-e936-46fa-b89f-a9855df4ef7f\", \"x\": [\"2019-01-08\", \"2019-01-15\", \"2019-01-22\", \"2019-01-29\", \"2019-02-05\", \"2019-02-12\", \"2019-02-19\", \"2019-02-26\", \"2019-03-05\", \"2019-03-12\", \"2019-03-19\", \"2019-03-26\", \"2019-04-02\", \"2019-04-09\", \"2019-04-16\", \"2019-04-23\", \"2019-04-30\", \"2019-05-07\", \"2019-05-14\", \"2019-05-21\", \"2019-05-28\", \"2019-06-04\", \"2019-06-11\", \"2019-06-18\", \"2019-06-25\", \"2019-07-02\", \"2019-07-09\", \"2019-07-16\", \"2019-07-23\", \"2019-07-30\", \"2019-08-06\", \"2019-08-13\", \"2019-08-20\", \"2019-08-27\", \"2019-09-03\", \"2019-09-10\", \"2019-09-17\", \"2019-09-24\", \"2019-10-01\", \"2019-10-08\", \"2019-10-15\", \"2019-10-22\", \"2019-10-29\", \"2019-11-05\", \"2019-11-12\", \"2019-11-19\", \"2019-11-26\", \"2019-12-03\", \"2019-12-10\", \"2019-12-17\", \"2019-12-24\", \"2019-12-31\", \"2020-01-08\", \"2020-01-15\", \"2020-01-22\", \"2020-01-29\", \"2020-02-05\", \"2020-02-12\", \"2020-02-19\", \"2020-02-26\", \"2020-03-04\", \"2020-03-11\", \"2020-03-18\", \"2020-03-25\", \"2020-04-01\", \"2020-04-08\", \"2020-04-15\", \"2020-04-22\", \"2020-04-29\", \"2020-05-06\", \"2020-05-13\", \"2020-05-20\", \"2020-05-27\", \"2020-06-03\", \"2020-06-10\"], \"y\": [82.26, 100.0, 88.0, 70.83, 72.41, 72.41, 84.21, 68.18, 78.95, 95.65, 78.26, 77.27, 92.86, 85.71, 77.78, 76.92, 84.21, 78.79, 80.95, 88.89, 88.0, 77.78, 87.5, 75.0, 77.5, 65.62, 63.33, 83.33, 77.08, 83.33, 72.0, 73.68, 80.36, 82.61, 71.11, 75.68, 64.29, 76.67, 73.47, 77.5, 79.25, 82.05, 72.34, 88.37, 82.86, 68.29, 74.19, 75.0, 81.82, 88.68, 75.44, 76.32, 80.0, 78.43, 84.85, 72.73, 65.0, 68.75, 82.0, 87.76, 76.79, 77.14, 73.68, 77.14, 81.13, 83.56, 77.78, 84.81, 72.46, 77.61, 84.38, 78.57, 83.33, 81.69, 63.64]}, {\"line\": {\"color\": \"rgba(255, 0, 136, 1.0)\", \"dash\": \"dash\", \"shape\": \"linear\", \"width\": 3}, \"mode\": \"lines\", \"name\": \"80.71*x+-0.05\", \"type\": \"scatter\", \"uid\": \"7513bb43-4d6c-44ba-829c-f154aff9d4fb\", \"x\": [\"2019-01-08\", \"2019-01-15\", \"2019-01-22\", \"2019-01-29\", \"2019-02-05\", \"2019-02-12\", \"2019-02-19\", \"2019-02-26\", \"2019-03-05\", \"2019-03-12\", \"2019-03-19\", \"2019-03-26\", \"2019-04-02\", \"2019-04-09\", \"2019-04-16\", \"2019-04-23\", \"2019-04-30\", \"2019-05-07\", \"2019-05-14\", \"2019-05-21\", \"2019-05-28\", \"2019-06-04\", \"2019-06-11\", \"2019-06-18\", \"2019-06-25\", \"2019-07-02\", \"2019-07-09\", \"2019-07-16\", \"2019-07-23\", \"2019-07-30\", \"2019-08-06\", \"2019-08-13\", \"2019-08-20\", \"2019-08-27\", \"2019-09-03\", \"2019-09-10\", \"2019-09-17\", \"2019-09-24\", \"2019-10-01\", \"2019-10-08\", \"2019-10-15\", \"2019-10-22\", \"2019-10-29\", \"2019-11-05\", \"2019-11-12\", \"2019-11-19\", \"2019-11-26\", \"2019-12-03\", \"2019-12-10\", \"2019-12-17\", \"2019-12-24\", \"2019-12-31\", \"2020-01-08\", \"2020-01-15\", \"2020-01-22\", \"2020-01-29\", \"2020-02-05\", \"2020-02-12\", \"2020-02-19\", \"2020-02-26\", \"2020-03-04\", \"2020-03-11\", \"2020-03-18\", \"2020-03-25\", \"2020-04-01\", \"2020-04-08\", \"2020-04-15\", \"2020-04-22\", \"2020-04-29\", \"2020-05-06\", \"2020-05-13\", \"2020-05-20\", \"2020-05-27\", \"2020-06-03\", \"2020-06-10\"], \"y\": [80.659449122807, 80.60494869606447, 80.55044826932195, 80.49594784257941, 80.44144741583688, 80.38694698909434, 80.33244656235182, 80.27794613560928, 80.22344570886675, 80.16894528212421, 80.11444485538169, 80.05994442863916, 80.00544400189662, 79.95094357515408, 79.89644314841156, 79.84194272166903, 79.78744229492649, 79.73294186818396, 79.67844144144142, 79.6239410146989, 79.56944058795636, 79.51494016121383, 79.4604397344713, 79.40593930772877, 79.35143888098624, 79.2969384542437, 79.24243802750117, 79.18793760075864, 79.13343717401611, 79.07893674727357, 79.02443632053104, 78.96993589378852, 78.91543546704598, 78.86093504030345, 78.80643461356091, 78.75193418681837, 78.69743376007585, 78.64293333333332, 78.58843290659078, 78.53393247984825, 78.47943205310573, 78.42493162636319, 78.37043119962065, 78.31593077287812, 78.2614303461356, 78.20692991939306, 78.15242949265053, 78.09792906590799, 78.04342863916546, 77.98892821242293, 77.9344277856804, 77.87992735893786, 77.82542693219533, 77.7709265054528, 77.71642607871027, 77.66192565196774, 77.6074252252252, 77.55292479848268, 77.49842437174014, 77.44392394499761, 77.38942351825507, 77.33492309151255, 77.28042266477001, 77.22592223802748, 77.17142181128494, 77.11692138454241, 77.06242095779989, 77.00792053105735, 76.95342010431482, 76.89891967757228, 76.84441925082976, 76.78991882408722, 76.73541839734469, 76.68091797060215, 76.62641754385963]}],\n",
       "                        {\"legend\": {\"bgcolor\": \"#F5F6F9\", \"font\": {\"color\": \"#4D5663\"}}, \"paper_bgcolor\": \"#F5F6F9\", \"plot_bgcolor\": \"#F5F6F9\", \"title\": {\"font\": {\"color\": \"#4D5663\"}}, \"xaxis\": {\"gridcolor\": \"#E1E5ED\", \"showgrid\": true, \"tickfont\": {\"color\": \"#4D5663\"}, \"title\": {\"font\": {\"color\": \"#4D5663\"}, \"text\": \"\"}, \"zerolinecolor\": \"#E1E5ED\"}, \"yaxis\": {\"gridcolor\": \"#E1E5ED\", \"range\": [0, 100], \"showgrid\": true, \"tickfont\": {\"color\": \"#4D5663\"}, \"title\": {\"font\": {\"color\": \"#4D5663\"}, \"text\": \"\"}, \"zerolinecolor\": \"#E1E5ED\"}},\n",
       "                        {\"showLink\": true, \"linkText\": \"Export to plot.ly\", \"plotlyServerURL\": \"https://plot.ly\", \"responsive\": true}\n",
       "                    ).then(function(){\n",
       "                            \n",
       "var gd = document.getElementById('6bac0f4b-efea-446d-b36c-a0172a5d86d4');\n",
       "var x = new MutationObserver(function (mutations, observer) {{\n",
       "        var display = window.getComputedStyle(gd).display;\n",
       "        if (!display || display === 'none') {{\n",
       "            console.log([gd, 'removed!']);\n",
       "            Plotly.purge(gd);\n",
       "            observer.disconnect();\n",
       "        }}\n",
       "}});\n",
       "\n",
       "// Listen for the removal of the full notebook cells\n",
       "var notebookContainer = gd.closest('#notebook-container');\n",
       "if (notebookContainer) {{\n",
       "    x.observe(notebookContainer, {childList: true});\n",
       "}}\n",
       "\n",
       "// Listen for the clearing of the current output cell\n",
       "var outputEl = gd.closest('.output');\n",
       "if (outputEl) {{\n",
       "    x.observe(outputEl, {childList: true});\n",
       "}}\n",
       "\n",
       "                        })\n",
       "                };\n",
       "                });\n",
       "            </script>\n",
       "        </div>"
      ]
     },
     "metadata": {},
     "output_type": "display_data"
    }
   ],
   "source": [
    "# RETAILER 'HOMEDEPOT'\n",
    "date_eval2 = aspectTimesSeries(data,token_column='retailer',aspect= 'homedepot')\n",
    "timesSeriesVisualization(date_eval2)"
   ]
  },
  {
   "cell_type": "markdown",
   "metadata": {},
   "source": [
    "Nesse sentido, uma possibilidade ainda seria analisar o efeito de uma intervenção na série temporal. Como por exemplo, uma marca poderia ter implementado uma campanha publicitária massiva a partir de determinada data e se tivéssemos os dados de avaliação antes e depois da intervenção seria possível executar um modelo de séries temporais interrompidas para testar o impacto da campanha nas avaliações."
   ]
  },
  {
   "cell_type": "markdown",
   "metadata": {},
   "source": [
    "É possível também explorar o volume de reviews por horário com base na variável  \"review_collected_at\", o que pode direcionar a empresa cliente a disponibilizar mais atendentes para responder essas reviews em horários de maior volume, ou ainda aumentar a capacidade do servidor do site em momentos específicos que se sabe que pode haver um pico de usuários. Vale salientar que esse processo preciaria ser validade com a equipe que construiu a base de dados para saber se o horário de coleta da review está de fato próxima do horário que ela foi postada."
   ]
  },
  {
   "cell_type": "code",
   "execution_count": 31,
   "metadata": {},
   "outputs": [],
   "source": [
    "# capture day and hour\n",
    "data[\"review_collected_at\"] = pd.to_datetime(data[\"review_collected_at\"])\n",
    "data['review_collect_week']= (data[\"review_collected_at\"].dt.dayofweek)\n",
    "data['review_collect_hour']= (data[\"review_collected_at\"].dt.hour)"
   ]
  },
  {
   "cell_type": "code",
   "execution_count": 32,
   "metadata": {},
   "outputs": [],
   "source": [
    "# size of reviews by day of week and hour\n",
    "date_volume = pd.DataFrame(data[['review_collect_week','review_collect_hour']].\n",
    " groupby(['review_collect_week','review_collect_hour']).size()).reset_index()\n",
    "\n",
    "# rename columns\n",
    "date_volume.columns = ['review_collect_week','review_collect_hour','freq']\n",
    "\n",
    "# subtitue 0 by 24 and remove 24 from day of week\n",
    "date_volume[date_volume['review_collect_hour'] == 0] = 24\n",
    "date_volume[date_volume['review_collect_week']==24] =0"
   ]
  },
  {
   "cell_type": "code",
   "execution_count": 33,
   "metadata": {},
   "outputs": [
    {
     "data": {
      "text/plain": [
       "<Figure size 432x288 with 0 Axes>"
      ]
     },
     "metadata": {},
     "output_type": "display_data"
    },
    {
     "data": {
      "image/png": "[encoded data removed]",
      "text/plain": [
       "<Figure size 640x480 with 1 Axes>"
      ]
     },
     "metadata": {},
     "output_type": "display_data"
    },
    {
     "data": {
      "text/plain": [
       "<ggplot: (-9223371908235232800)>"
      ]
     },
     "execution_count": 33,
     "metadata": {},
     "output_type": "execute_result"
    }
   ],
   "source": [
    "from plotnine import * \n",
    "fig = plt.figure()\n",
    "\n",
    "# ggplot heatmap\n",
    "ggplot(date_volume, aes('review_collect_week', 'review_collect_hour')) + geom_tile(aes(fill='freq'))\\\n",
    "    + scale_fill_gradientn(colors=['#9ebcda','#8c6bb1','#88419d','#6e016b']) \\\n",
    "    + ggtitle(\"Volume de 'Reviews' por hora do dia e dia da semana \")"
   ]
  },
  {
   "cell_type": "markdown",
   "metadata": {},
   "source": [
    "Acima é possível observar que o volume de reviews se concentra no horário entre 13:00h e 17:00h às quintas (dia 4, domingo como 0), também em alguns pontos específicos como segundas às 14:00h e domingo às 21:00h. Aqui reforço a importância de se discutir os dados com o time responsável para identificar se o horário de coleta reflete de fato o horário de postagem das reviews, visto que muitos horários estão em vazio, o que pode indicar que esse horário de coleta pode seguir um padrão diferente do horário de postagem dos comentários."
   ]
  },
  {
   "cell_type": "markdown",
   "metadata": {},
   "source": [
    "Por fim, abaixo considero algumas outras possibilidades de análise, bem como limitações nesta, que me vieram à mente mas por limitações de tempo eu preferi me dedicar apenas ao que foi mostrado.\n",
    "    \n",
    "    1. Wordclouds são boas para apresentações e visualizações intuitivas, porém gráficos de barra para a contagem de palavras mostram mais informações, deixando mais claro a posição das palavras no ranking;\n",
    "    2. Relacionar avaliação com variáveis categóricas (ex: breadcrumb, specs, retailer, brand) por meio de gráficos de barra; \n",
    "    3. Relacionar adjetivos com outras variáveis categóricas por meio de wordclouds e wordcounts;\n",
    "    4. Volume de reviews por dia do mês e dia do ano;\n",
    "    5. Análise de redes de palavras para explorar melhor a conexão entre sentimentos, aspectos e marcas;\n",
    "    6. Testes estatísticos para avaliar se diferenças na percepção de marcas são estatisticamente significativas;\n",
    "    7. Explorar outras fontes de dados, como os comentários de usuários nas redes socias das marcas e produtos."
   ]
  }
 ],
 "metadata": {
  "colab": {
   "collapsed_sections": [],
   "name": "teste_birdie.ipynb",
   "provenance": []
  },
  "kernelspec": {
   "display_name": "Python 3",
   "language": "python",
   "name": "python3"
  },
  "language_info": {
   "codemirror_mode": {
    "name": "ipython",
    "version": 3
   },
   "file_extension": ".py",
   "mimetype": "text/x-python",
   "name": "python",
   "nbconvert_exporter": "python",
   "pygments_lexer": "ipython3",
   "version": "3.7.4"
  }
 },
 "nbformat": 4,
 "nbformat_minor": 4
}
