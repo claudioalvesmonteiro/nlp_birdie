{
 "cells": [
  {
   "cell_type": "markdown",
   "metadata": {
    "colab_type": "text",
    "id": "CPIrc0PsobsU"
   },
   "source": [
    "# Teste Técnico Birdie\n",
    "\n",
    "@claudioalvesmonteiro\n",
    "Junho, 2020"
   ]
  },
  {
   "cell_type": "markdown",
   "metadata": {},
   "source": [
    "Abaixo pontuo as informações dadas para resolução do problema, bem como o passo-a-passo da análise que fiz. "
   ]
  },
  {
   "cell_type": "markdown",
   "metadata": {
    "colab_type": "text",
    "id": "EIxeKBzmoBIG"
   },
   "source": [
    "## Objetivos e informações de subsídio\n",
    "1. Extração de aspectos: palavras dentro de um texto que codificam uma característica de seu funcionamento, estrutura, ou do processo de compra (entrega, SAC, consertos e problemas);\n",
    "2. O quê está sendo falado nos canais de venda de seus produtos;\n",
    "3. Encontrar uma maneira de extrair estes aspectos;\n",
    "4. Explorar essas informações para gerar insights (por exemplo, quais aspectos estão mais relacionados com reviews positivos?);\n",
    "5. Opcionalmente, criar gráficos e propostas de visualizações para suas observações;\n",
    "6. Tópicos: NLP, named entity recognition, syntax pattern matching, feature extraction, topic representation, word embedding, sentence embedding\n",
    "\n",
    "## Desenvolver e analisar\n",
    "\n",
    "1. Pré-processar text e gerar tokens;\n",
    "2. Contagem de palavras total para explorar aspectos;\n",
    "3. Identificar os aspectos em cada comentário e salvar em variável;\n",
    "4. Criar variável binária para avaliação, positivo > 3 estrelas e negativo < 2 estrelas;\n",
    "5. Capturar bag of words (+ e -) para cada aspecto identificado;\n",
    "6. Visualização wordcloud/wordcount para cada aspecto identificado; \n",
    "7. Volume de visualização por mes/semana e semana/horario-do-dia;\n",
    "8. Tipo de geladeira _(breadcrumb)_ mais bem avaliados e mal avaliados por marca _(brand)_;\n",
    "9. Comparar características _(specs_) das mais bem e mal avaliados;\n",
    "10. Explorar tendência temporal das avaliações dos produtos (% positivas), line-plot and thick bar, por aspecto do produto;\n",
    "12. relação com retailer (distribuidora) e brand (marca);\n",
    "13. similaridade entre textos (?);\n",
    "14. modelagem para ver o que influencia ter uma boa avaliação (?);\n"
   ]
  },
  {
   "cell_type": "markdown",
   "metadata": {
    "colab_type": "text",
    "id": "ASuSYAsDoyib"
   },
   "source": [
    "# Pré-processamento e Análise Exploratória"
   ]
  },
  {
   "cell_type": "markdown",
   "metadata": {},
   "source": [
    "Com os objetivos definidos, o primeiro passo é pré-processar os comentários e colocar as palavras em caixa baixa, remover números, remover stopwords (conectivos) e aplicar o algoritmo lemmantization. Com isso padronizamos nosso texto para fazer uma extração de características mais eficiente. "
   ]
  },
  {
   "cell_type": "code",
   "execution_count": 2,
   "metadata": {
    "colab": {},
    "colab_type": "code",
    "id": "UYjM8t9spk0h"
   },
   "outputs": [],
   "source": [
    "# import packages\n",
    "import pandas as pd\n",
    "import nltk\n",
    "#nltk.download('punkt')\n",
    "#nltk.download('averaged_perceptron_tagger')"
   ]
  },
  {
   "cell_type": "code",
   "execution_count": 3,
   "metadata": {
    "colab": {
     "base_uri": "https://localhost:8080/",
     "height": 271
    },
    "colab_type": "code",
    "id": "NzQJhgBvpeCz",
    "outputId": "a6edde26-efe8-4e39-e8a3-d6c44bb0e0c5"
   },
   "outputs": [
    {
     "name": "stdout",
     "output_type": "stream",
     "text": [
      "69.31 % de casos duplicados na base\n"
     ]
    }
   ],
   "source": [
    "# import dataset\n",
    "data = pd.read_csv('data/tech_test.tsv')\n",
    "\n",
    "# % of duplicated reviews\n",
    "print(round(sum(data.duplicated('review_id'))/len(data)*100, 2),'% de casos duplicados na base')"
   ]
  },
  {
   "cell_type": "markdown",
   "metadata": {},
   "source": [
    "Observando a estrutura dos dados pude observar que haviam reviews exatamente iguais mas apenas com momento de coleta diferentes, então acredito que isso seja resultado de algum processo na coleta dos dados. Como isso poderia gerar um viés na análise, já que vou executar a contagem de termos, decidi por excluir reviews com ID duplicado. "
   ]
  },
  {
   "cell_type": "code",
   "execution_count": 4,
   "metadata": {},
   "outputs": [],
   "source": [
    "# remove duplicated reviews\n",
    "data = data.drop_duplicates('review_id')"
   ]
  },
  {
   "cell_type": "code",
   "execution_count": 5,
   "metadata": {
    "colab": {
     "base_uri": "https://localhost:8080/",
     "height": 1000
    },
    "colab_type": "code",
    "id": "uUY90yU6qGf7",
    "outputId": "53a1f91c-0a96-4736-8169-c6c2886180ca"
   },
   "outputs": [],
   "source": [
    "def cleanTextToken(text, tokenization = True):\n",
    "    ''' standardize text to extract words\n",
    "    '''\n",
    "    # text to lowercase\n",
    "    text = text.lower()\n",
    "    # remove numbers\n",
    "    text = ''.join([i for i in text if not i.isdigit()]) \n",
    "    # remove punctuation\n",
    "    from nltk.tokenize import RegexpTokenizer\n",
    "    tokenizer = RegexpTokenizer(r'\\w+') # preserve words and alphanumeric\n",
    "    text = tokenizer.tokenize(text)\n",
    "    # remove stopwords\n",
    "    from nltk.corpus import stopwords\n",
    "    stop = set(stopwords.words('english'))\n",
    "    text = [w for w in text if not w in stop] \n",
    "    # lemmatization\n",
    "    from nltk.stem import WordNetLemmatizer \n",
    "    lemmatizer = WordNetLemmatizer() \n",
    "    text = [lemmatizer.lemmatize(word) for word in text]\n",
    "    # return clean token\n",
    "    return(text)"
   ]
  },
  {
   "cell_type": "code",
   "execution_count": 6,
   "metadata": {},
   "outputs": [],
   "source": [
    "# generate variable with preprocessed text\n",
    "data['review_body_token'] = [cleanTextToken(text) for text in data['review_body']]"
   ]
  },
  {
   "cell_type": "markdown",
   "metadata": {},
   "source": [
    "Agora é possível fazer uma contagem dos termos mais frequentes e testar se é possível extrair aspectos a partir disso. Com um modelo pré-treinado do pacote nltk consigo extrair a classe gramatical de cada palavra (substantivo, adjetivo, pronome, etc.) e assim afunilar a busca por aspectos relevantes dos produtos em substantivos e posteriormente relacionar esses aspectos com a avaliação e com outras variáveis."
   ]
  },
  {
   "cell_type": "code",
   "execution_count": 7,
   "metadata": {},
   "outputs": [],
   "source": [
    "def wordCount(txt_list):\n",
    "    ''' count frequency of words in tokenized list\n",
    "        and save in dataframe\n",
    "    '''\n",
    "    wordfreq = {'word':[],'freq':[]}\n",
    "    for word in txt_list:\n",
    "        if word not in wordfreq['word']:\n",
    "            wordfreq['word'].append(word)                   # save word\n",
    "            wordfreq['freq'].append(txt_list.count(word))   # save freq\n",
    "    count = pd.DataFrame(wordfreq)\n",
    "    # sort_values in df\n",
    "    count.sort_values('freq', inplace=True, ascending=False)\n",
    "    return count"
   ]
  },
  {
   "cell_type": "code",
   "execution_count": 8,
   "metadata": {},
   "outputs": [],
   "source": [
    "# combine all words in reviews\n",
    "all_tokens = []\n",
    "for comment in data['review_body_token']:\n",
    "    for word in comment:\n",
    "        all_tokens.append(word)"
   ]
  },
  {
   "cell_type": "code",
   "execution_count": 9,
   "metadata": {},
   "outputs": [],
   "source": [
    "# contabilizar\n",
    "all_count = wordCount(all_tokens[0:100000])"
   ]
  },
  {
   "cell_type": "code",
   "execution_count": 10,
   "metadata": {},
   "outputs": [],
   "source": [
    "# funcao para identificar classe gramatical de palavras \n",
    "def nltkPerceptronClass(column):\n",
    "    new_column =[]\n",
    "    for word in column:\n",
    "        new_column.append(nltk.pos_tag([word])[0][1])\n",
    "    return new_column"
   ]
  },
  {
   "cell_type": "code",
   "execution_count": 11,
   "metadata": {},
   "outputs": [],
   "source": [
    "# executar identifc de classe gramatical usando modelo pre-treinado da nltk\n",
    "all_count['category'] = [nltk.pos_tag([word])[0][1] for word in all_count['word'] ]"
   ]
  },
  {
   "cell_type": "code",
   "execution_count": 15,
   "metadata": {},
   "outputs": [
    {
     "data": {
      "text/html": [
       "<div>\n",
       "<style scoped>\n",
       "    .dataframe tbody tr th:only-of-type {\n",
       "        vertical-align: middle;\n",
       "    }\n",
       "\n",
       "    .dataframe tbody tr th {\n",
       "        vertical-align: top;\n",
       "    }\n",
       "\n",
       "    .dataframe thead th {\n",
       "        text-align: right;\n",
       "    }\n",
       "</style>\n",
       "<table border=\"1\" class=\"dataframe\">\n",
       "  <thead>\n",
       "    <tr style=\"text-align: right;\">\n",
       "      <th></th>\n",
       "      <th>word</th>\n",
       "      <th>freq</th>\n",
       "      <th>category</th>\n",
       "    </tr>\n",
       "  </thead>\n",
       "  <tbody>\n",
       "    <tr>\n",
       "      <td>42</td>\n",
       "      <td>fridge</td>\n",
       "      <td>2473</td>\n",
       "      <td>NN</td>\n",
       "    </tr>\n",
       "    <tr>\n",
       "      <td>28</td>\n",
       "      <td>door</td>\n",
       "      <td>1823</td>\n",
       "      <td>NN</td>\n",
       "    </tr>\n",
       "    <tr>\n",
       "      <td>16</td>\n",
       "      <td>ice</td>\n",
       "      <td>1790</td>\n",
       "      <td>NN</td>\n",
       "    </tr>\n",
       "    <tr>\n",
       "      <td>102</td>\n",
       "      <td>refrigerator</td>\n",
       "      <td>1505</td>\n",
       "      <td>NN</td>\n",
       "    </tr>\n",
       "    <tr>\n",
       "      <td>47</td>\n",
       "      <td>part</td>\n",
       "      <td>1420</td>\n",
       "      <td>NN</td>\n",
       "    </tr>\n",
       "    <tr>\n",
       "      <td>45</td>\n",
       "      <td>review</td>\n",
       "      <td>1392</td>\n",
       "      <td>NN</td>\n",
       "    </tr>\n",
       "    <tr>\n",
       "      <td>36</td>\n",
       "      <td>freezer</td>\n",
       "      <td>1351</td>\n",
       "      <td>NN</td>\n",
       "    </tr>\n",
       "    <tr>\n",
       "      <td>37</td>\n",
       "      <td>love</td>\n",
       "      <td>1323</td>\n",
       "      <td>NN</td>\n",
       "    </tr>\n",
       "    <tr>\n",
       "      <td>48</td>\n",
       "      <td>promotion</td>\n",
       "      <td>1253</td>\n",
       "      <td>NN</td>\n",
       "    </tr>\n",
       "    <tr>\n",
       "      <td>46</td>\n",
       "      <td>collected</td>\n",
       "      <td>1252</td>\n",
       "      <td>VBN</td>\n",
       "    </tr>\n",
       "    <tr>\n",
       "      <td>9</td>\n",
       "      <td>water</td>\n",
       "      <td>1024</td>\n",
       "      <td>NN</td>\n",
       "    </tr>\n",
       "    <tr>\n",
       "      <td>12</td>\n",
       "      <td>great</td>\n",
       "      <td>1024</td>\n",
       "      <td>JJ</td>\n",
       "    </tr>\n",
       "    <tr>\n",
       "      <td>148</td>\n",
       "      <td>space</td>\n",
       "      <td>936</td>\n",
       "      <td>NN</td>\n",
       "    </tr>\n",
       "    <tr>\n",
       "      <td>19</td>\n",
       "      <td>one</td>\n",
       "      <td>904</td>\n",
       "      <td>CD</td>\n",
       "    </tr>\n",
       "    <tr>\n",
       "      <td>29</td>\n",
       "      <td>shelf</td>\n",
       "      <td>834</td>\n",
       "      <td>NN</td>\n",
       "    </tr>\n",
       "    <tr>\n",
       "      <td>96</td>\n",
       "      <td>like</td>\n",
       "      <td>766</td>\n",
       "      <td>IN</td>\n",
       "    </tr>\n",
       "    <tr>\n",
       "      <td>152</td>\n",
       "      <td>side</td>\n",
       "      <td>749</td>\n",
       "      <td>NN</td>\n",
       "    </tr>\n",
       "    <tr>\n",
       "      <td>78</td>\n",
       "      <td>bought</td>\n",
       "      <td>686</td>\n",
       "      <td>NN</td>\n",
       "    </tr>\n",
       "    <tr>\n",
       "      <td>39</td>\n",
       "      <td>maker</td>\n",
       "      <td>682</td>\n",
       "      <td>NN</td>\n",
       "    </tr>\n",
       "    <tr>\n",
       "      <td>5</td>\n",
       "      <td>drawer</td>\n",
       "      <td>633</td>\n",
       "      <td>NN</td>\n",
       "    </tr>\n",
       "  </tbody>\n",
       "</table>\n",
       "</div>"
      ],
      "text/plain": [
       "             word  freq category\n",
       "42         fridge  2473       NN\n",
       "28           door  1823       NN\n",
       "16            ice  1790       NN\n",
       "102  refrigerator  1505       NN\n",
       "47           part  1420       NN\n",
       "45         review  1392       NN\n",
       "36        freezer  1351       NN\n",
       "37           love  1323       NN\n",
       "48      promotion  1253       NN\n",
       "46      collected  1252      VBN\n",
       "9           water  1024       NN\n",
       "12          great  1024       JJ\n",
       "148         space   936       NN\n",
       "19            one   904       CD\n",
       "29          shelf   834       NN\n",
       "96           like   766       IN\n",
       "152          side   749       NN\n",
       "78         bought   686       NN\n",
       "39          maker   682       NN\n",
       "5          drawer   633       NN"
      ]
     },
     "execution_count": 15,
     "metadata": {},
     "output_type": "execute_result"
    }
   ],
   "source": [
    "all_count[0:20]"
   ]
  },
  {
   "cell_type": "markdown",
   "metadata": {},
   "source": [
    "Com base nessa análise exploratória é possível levantar palavras de relevância nos reviews, que podem servir como aspetos a serem analisados e cruzados com outras variáveis para compreender com mais detalhes as avaliações. Nessa etapa, entrar em contato com alguém da empresa que contratou o serviço, ou um especialista no produto, seria de muito valor para mostrar o resultado acima e explorar os aspectos. No caso, com base nos resultados, defini os termos abaixo como sendo de potencial interesse para o produto."
   ]
  },
  {
   "cell_type": "code",
   "execution_count": 16,
   "metadata": {},
   "outputs": [],
   "source": [
    "features = ['door',\n",
    "            'ice',\n",
    "            'refrigerator',\n",
    "            'freezer',\n",
    "            'promotion',\n",
    "            'water',\n",
    "            'space',\n",
    "            'shelf',\n",
    "            'side',\n",
    "            'room',\n",
    "            'dispenser',\n",
    "            'time',\n",
    "            'size',\n",
    "            'problem',\n",
    "            'price',\n",
    "            'light',\n",
    "            'temperature',\n",
    "            'noise']"
   ]
  },
  {
   "cell_type": "markdown",
   "metadata": {},
   "source": [
    "Abaixo segue a criação de variáveis para realizar o cruzamento das informações. É criada _review_aspects_, com aspectos presentes na review, _review_classification_. Uso o reconhecimento de classe gramatical do nltk para extrair adjetivos na review e fazer uma análise de sentimentos. Dessa forma é possível visualizar como os consumidores se sentem em relação a aspectos do produto como o a porta da geladeira, a luz, barulho, preço, espaço e etc."
   ]
  },
  {
   "cell_type": "code",
   "execution_count": 17,
   "metadata": {},
   "outputs": [],
   "source": [
    "def wordsInRow(words, token_row):\n",
    "    ''' indentify if words is in list of tokens,\n",
    "        return list with words intersected \n",
    "    '''\n",
    "    new_row = []\n",
    "    for word in words:\n",
    "        if word in token_row:\n",
    "            new_row.append(word)\n",
    "    return new_row"
   ]
  },
  {
   "cell_type": "code",
   "execution_count": 18,
   "metadata": {},
   "outputs": [],
   "source": [
    "# capture aspects in review\n",
    "data['review_aspects'] = data['review_body_token'].apply(lambda row: wordsInRow(features, row)) "
   ]
  },
  {
   "cell_type": "code",
   "execution_count": 19,
   "metadata": {},
   "outputs": [],
   "source": [
    "# capture adjectives in review\n",
    "adjectives = list(all_count['word'][all_count['category'] == 'JJ'])\n",
    "data['review_adjectives'] = data['review_body_token'].apply(lambda row: wordsInRow(adjectives, row)) "
   ]
  },
  {
   "cell_type": "code",
   "execution_count": 20,
   "metadata": {},
   "outputs": [],
   "source": [
    "# review user binary classification\n",
    "data['review_classification'] = [1 if x >= 4 else -1 for x in data['review_user_rating']]"
   ]
  },
  {
   "cell_type": "code",
   "execution_count": 21,
   "metadata": {},
   "outputs": [],
   "source": [
    "# reset index\n",
    "data.reset_index(inplace=True)"
   ]
  },
  {
   "cell_type": "markdown",
   "metadata": {},
   "source": [
    "# Análise de Sentimentos"
   ]
  },
  {
   "cell_type": "markdown",
   "metadata": {},
   "source": [
    "Agora é possível executar uma busca de termos e adjetivos próximos aos aspectos para compreender o que as pessoas estão falando em relação a cada aspecto. Destaco ainda que esse processo poderia ser direcionado a uma marca específica ou produto específico apenas implementando um simples filtro e comparando com outras marcas, tendo a marca cliente como referência."
   ]
  },
  {
   "cell_type": "code",
   "execution_count": 38,
   "metadata": {},
   "outputs": [],
   "source": [
    "def textSentimentAgg(token_list, category, rule='near'):\n",
    "    ''' aggregate tokens in text following one,\n",
    "        proximos a uma termo especifico.\n",
    "        all: agg all tokens in list\n",
    "        next: agg tokens next to the word\n",
    "        near: agg tokens 2 words near\n",
    "    '''\n",
    "    text = ''\n",
    "    for i in range(len(token_list)):\n",
    "        if category in token_list[i]:\n",
    "            row = token_list[i]\n",
    "            cat_index = row.index(category)\n",
    "            if rule == 'all':\n",
    "                for word in row:\n",
    "                    text = text + word + ' '  \n",
    "            if rule == 'next':\n",
    "                if cat_index > 0:\n",
    "                    text += row[cat_index-1] + ' '\n",
    "                if cat_index < (len(row)-1):\n",
    "                    text += row[cat_index+1] + ' '\n",
    "            if rule == 'near':\n",
    "                count_id = 0\n",
    "                while count_id < 3:\n",
    "                    try:\n",
    "                        word = row[cat_index+count_id]\n",
    "                        if nltk.pos_tag([word])[0][1] == 'JJ':\n",
    "                            text += word + ' '\n",
    "                    except:\n",
    "                        pass\n",
    "                    count_id += 1\n",
    "                count_id = 0    \n",
    "                while count_id > -3:\n",
    "                    try:\n",
    "                        word = row[cat_index+count_id]\n",
    "                        if nltk.pos_tag([word])[0][1] == 'JJ':\n",
    "                            text += word + ' '\n",
    "                    except:\n",
    "                        pass\n",
    "                    count_id -= 1\n",
    "    return text"
   ]
  },
  {
   "cell_type": "code",
   "execution_count": 39,
   "metadata": {},
   "outputs": [],
   "source": [
    "def wordcloudVisualization(text, max_words):\n",
    "    %matplotlib inline\n",
    "    from wordcloud import WordCloud\n",
    "    import matplotlib.pyplot as plt\n",
    "    wordcloud = WordCloud(max_font_size=50, max_words=max_words, background_color=\"white\").generate(text)\n",
    "    plt.figure()\n",
    "    plt.imshow(wordcloud, interpolation=\"bilinear\")\n",
    "    plt.axis(\"off\")\n",
    "    plt.show()"
   ]
  },
  {
   "cell_type": "code",
   "execution_count": 40,
   "metadata": {},
   "outputs": [],
   "source": [
    "def aspectSentimentWordcloud(data, classification, aspect, max_words, rule='near'):\n",
    "    data_posi = data[data['review_classification'] == classification].reset_index()\n",
    "    text = textSentimentAgg(data_posi['review_body_token'], aspect, rule)\n",
    "    wordcloudVisualization(text, max_words)"
   ]
  },
  {
   "cell_type": "markdown",
   "metadata": {},
   "source": [
    "Abaixo é gerado (1) uma nuvem de palavras com termos ao lado do termo 'ice', na qual é possível identificar que se está relacionado ao componente de fazer gelo da geladeira; (2) uma nuvem de palavras com os termos próximos do termo 'ice' em avaliações positivas, em que se observa adjetivos relevantes como 'easy', 'big', 'spacious', 'large', que denotam um interesse dos consumidores sobre um produtor de gelo grande; por fim (3) a terceira nuvem de palavras captura termos próximos a 'ice' em avaliações negativas, aqui podemos observar o destaque dos adjetivos 'small' e 'tiny', o que reforça o interesse dos consumidores sobre um produtor de gelo grande, ao mesmo tempo também é possível ver termos positivos mesmo em avaliações ruins como 'good' e 'great'. Esse mesmo modelo de análise pode ser replicada para qualquer outro termo apenas mudando o 'aspect' nas funções."
   ]
  },
  {
   "cell_type": "code",
   "execution_count": 34,
   "metadata": {},
   "outputs": [
    {
     "data": {
      "image/png": "[encoded data removed]",
      "text/plain": [
       "<Figure size 432x288 with 1 Axes>"
      ]
     },
     "metadata": {
      "needs_background": "light"
     },
     "output_type": "display_data"
    }
   ],
   "source": [
    "aspectSentimentWordcloud(data, classification=1, aspect='ice', max_words=10, rule='next')"
   ]
  },
  {
   "cell_type": "code",
   "execution_count": 44,
   "metadata": {},
   "outputs": [
    {
     "data": {
      "image/png": "[encoded data removed]",
      "text/plain": [
       "<Figure size 432x288 with 1 Axes>"
      ]
     },
     "metadata": {
      "needs_background": "light"
     },
     "output_type": "display_data"
    }
   ],
   "source": [
    "aspectSentimentWordcloud(data, classification=1, aspect='ice', max_words=15, rule='near')"
   ]
  },
  {
   "cell_type": "code",
   "execution_count": 42,
   "metadata": {},
   "outputs": [
    {
     "data": {
      "image/png": "[encoded data removed]",
      "text/plain": [
       "<Figure size 432x288 with 1 Axes>"
      ]
     },
     "metadata": {
      "needs_background": "light"
     },
     "output_type": "display_data"
    }
   ],
   "source": [
    "aspectSentimentWordcloud(data, classification=-1, aspect='ice', max_words=15, rule='near')"
   ]
  },
  {
   "cell_type": "markdown",
   "metadata": {},
   "source": [
    "# Análise Temporal"
   ]
  },
  {
   "cell_type": "markdown",
   "metadata": {},
   "source": [
    "Com os dados de data e hora do comentário é possível explorar a avaliação dos usuários e relacionar com termos para saber se há uma variação temporal na percepção dos usuários sobre o produto ou a marca."
   ]
  },
  {
   "cell_type": "code",
   "execution_count": 108,
   "metadata": {},
   "outputs": [],
   "source": [
    "# transform day/month/year to week/month/year\n",
    "data['date_month'] = pd.to_datetime(data['review_year'], format='%Y') + \\\n",
    "             pd.to_timedelta(data['review_week'].mul(7).astype(str) + ' days')"
   ]
  },
  {
   "cell_type": "code",
   "execution_count": 123,
   "metadata": {},
   "outputs": [],
   "source": [
    "def aspectTimesSeries(data, aspect):\n",
    "    # select aspect data \n",
    "    data = data[data['review_aspects'].apply(lambda x: 'ice' in x)]\n",
    "    # crate dict to append results\n",
    "    timeseries_positive = {'date':[],'positive_percent':[]}\n",
    "    # loop through weks\n",
    "    for date in data['date_month'].unique():\n",
    "        # select date\n",
    "        date_data = data[data['date_month'] == date]\n",
    "        # calculate percent of positive reviews\n",
    "        date_count = pd.DataFrame(date_data[['review_classification']].groupby('review_classification').size()).reset_index()\n",
    "        date_count.columns=['review_classification', 'freq']\n",
    "        date_count['percent'] = round(date_count['freq'] / sum(date_count['freq'] ) *100, 2)\n",
    "        value = date_count['percent'][date_count['review_classification'] == 1]\n",
    "        try:\n",
    "            value = float(value)\n",
    "        except:\n",
    "            value = 0\n",
    "        # save in dict\n",
    "        timeseries_positive['positive_percent'].append(value)\n",
    "        timeseries_positive['date'].append(date)\n",
    "    # return df\n",
    "    timeseries_positive = pd.DataFrame(timeseries_positive).sort_values('date')\n",
    "    return timeseries_positive"
   ]
  },
  {
   "cell_type": "code",
   "execution_count": 130,
   "metadata": {},
   "outputs": [
    {
     "data": {
      "text/html": [
       "<div>\n",
       "<style scoped>\n",
       "    .dataframe tbody tr th:only-of-type {\n",
       "        vertical-align: middle;\n",
       "    }\n",
       "\n",
       "    .dataframe tbody tr th {\n",
       "        vertical-align: top;\n",
       "    }\n",
       "\n",
       "    .dataframe thead th {\n",
       "        text-align: right;\n",
       "    }\n",
       "</style>\n",
       "<table border=\"1\" class=\"dataframe\">\n",
       "  <thead>\n",
       "    <tr style=\"text-align: right;\">\n",
       "      <th></th>\n",
       "      <th>date</th>\n",
       "      <th>positive_percent</th>\n",
       "    </tr>\n",
       "  </thead>\n",
       "  <tbody>\n",
       "    <tr>\n",
       "      <td>44</td>\n",
       "      <td>2019-01-08</td>\n",
       "      <td>80.56</td>\n",
       "    </tr>\n",
       "    <tr>\n",
       "      <td>37</td>\n",
       "      <td>2019-01-15</td>\n",
       "      <td>92.00</td>\n",
       "    </tr>\n",
       "    <tr>\n",
       "      <td>26</td>\n",
       "      <td>2019-01-22</td>\n",
       "      <td>63.16</td>\n",
       "    </tr>\n",
       "    <tr>\n",
       "      <td>74</td>\n",
       "      <td>2019-01-29</td>\n",
       "      <td>92.31</td>\n",
       "    </tr>\n",
       "    <tr>\n",
       "      <td>69</td>\n",
       "      <td>2019-02-05</td>\n",
       "      <td>82.35</td>\n",
       "    </tr>\n",
       "    <tr>\n",
       "      <td>...</td>\n",
       "      <td>...</td>\n",
       "      <td>...</td>\n",
       "    </tr>\n",
       "    <tr>\n",
       "      <td>36</td>\n",
       "      <td>2020-05-13</td>\n",
       "      <td>77.14</td>\n",
       "    </tr>\n",
       "    <tr>\n",
       "      <td>5</td>\n",
       "      <td>2020-05-20</td>\n",
       "      <td>87.50</td>\n",
       "    </tr>\n",
       "    <tr>\n",
       "      <td>18</td>\n",
       "      <td>2020-05-27</td>\n",
       "      <td>82.93</td>\n",
       "    </tr>\n",
       "    <tr>\n",
       "      <td>22</td>\n",
       "      <td>2020-06-03</td>\n",
       "      <td>81.67</td>\n",
       "    </tr>\n",
       "    <tr>\n",
       "      <td>70</td>\n",
       "      <td>2020-06-10</td>\n",
       "      <td>46.67</td>\n",
       "    </tr>\n",
       "  </tbody>\n",
       "</table>\n",
       "<p>75 rows × 2 columns</p>\n",
       "</div>"
      ],
      "text/plain": [
       "         date  positive_percent\n",
       "44 2019-01-08             80.56\n",
       "37 2019-01-15             92.00\n",
       "26 2019-01-22             63.16\n",
       "74 2019-01-29             92.31\n",
       "69 2019-02-05             82.35\n",
       "..        ...               ...\n",
       "36 2020-05-13             77.14\n",
       "5  2020-05-20             87.50\n",
       "18 2020-05-27             82.93\n",
       "22 2020-06-03             81.67\n",
       "70 2020-06-10             46.67\n",
       "\n",
       "[75 rows x 2 columns]"
      ]
     },
     "execution_count": 130,
     "metadata": {},
     "output_type": "execute_result"
    }
   ],
   "source": [
    "ice_date_eval = aspectTimesSeries(data, 'ice')\n",
    "ice_date_eval"
   ]
  },
  {
   "cell_type": "code",
   "execution_count": 126,
   "metadata": {},
   "outputs": [
    {
     "data": {
      "text/html": [
       "        <script type=\"text/javascript\">\n",
       "        window.PlotlyConfig = {MathJaxConfig: 'local'};\n",
       "        if (window.MathJax) {MathJax.Hub.Config({SVG: {font: \"STIX-Web\"}});}\n",
       "        if (typeof require !== 'undefined') {\n",
       "        require.undef(\"plotly\");\n",
       "        requirejs.config({\n",
       "            paths: {\n",
       "                'plotly': ['https://cdn.plot.ly/plotly-latest.min']\n",
       "            }\n",
       "        });\n",
       "        require(['plotly'], function(Plotly) {\n",
       "            window._Plotly = Plotly;\n",
       "        });\n",
       "        }\n",
       "        </script>\n",
       "        "
      ]
     },
     "metadata": {},
     "output_type": "display_data"
    },
    {
     "data": {
      "text/html": [
       "        <script type=\"text/javascript\">\n",
       "        window.PlotlyConfig = {MathJaxConfig: 'local'};\n",
       "        if (window.MathJax) {MathJax.Hub.Config({SVG: {font: \"STIX-Web\"}});}\n",
       "        if (typeof require !== 'undefined') {\n",
       "        require.undef(\"plotly\");\n",
       "        requirejs.config({\n",
       "            paths: {\n",
       "                'plotly': ['https://cdn.plot.ly/plotly-latest.min']\n",
       "            }\n",
       "        });\n",
       "        require(['plotly'], function(Plotly) {\n",
       "            window._Plotly = Plotly;\n",
       "        });\n",
       "        }\n",
       "        </script>\n",
       "        "
      ]
     },
     "metadata": {},
     "output_type": "display_data"
    }
   ],
   "source": [
    "# modules\n",
    "import pandas as pd\n",
    "import plotly.graph_objs as go\n",
    "import plotly.offline as py\n",
    "from plotly.offline import download_plotlyjs, init_notebook_mode, plot, iplot \n",
    "import cufflinks as cf  \n",
    "#from visualizationSource import annotaText\n",
    "\n",
    "# set notebook and offline config\n",
    "%matplotlib inline\n",
    "init_notebook_mode(connected=True)  \n",
    "cf.go_offline()"
   ]
  },
  {
   "cell_type": "code",
   "execution_count": 127,
   "metadata": {},
   "outputs": [],
   "source": [
    "def annotaText(x, y, text, mini, maxi):\n",
    "    import plotly.graph_objs as go\n",
    "    listona = []\n",
    "    cont = 0\n",
    "    if not isinstance(text[0], int):\n",
    "        xt = [str(i) for i in text]\n",
    "    while cont < len(x):\n",
    "        dic = {'x': x[cont], \n",
    "               'y': y[cont], \n",
    "               'xref': 'x', \n",
    "               'yref':'y', \n",
    "                'text': xt[cont],\n",
    "                'showarrow':True,\n",
    "                'arrowhead' : 7,\n",
    "                'ax' : 0,\n",
    "                'ay': -40}\n",
    "        listona.append(dic)\n",
    "        cont = cont + 1\n",
    "    layout = go.Layout(\n",
    "        showlegend=False,\n",
    "        annotations= listona,\n",
    "        yaxis = dict( range=[mini, maxi] ))   \n",
    "    return layout"
   ]
  },
  {
   "cell_type": "code",
   "execution_count": 132,
   "metadata": {},
   "outputs": [
    {
     "data": {
      "application/vnd.plotly.v1+json": {
       "config": {
        "linkText": "Export to plot.ly",
        "plotlyServerURL": "https://plot.ly",
        "showLink": true
       },
       "data": [
        {
         "line": {
          "color": "rgba(255, 153, 51, 1.0)",
          "dash": "solid",
          "shape": "linear",
          "width": 1.3
         },
         "marker": {
          "size": 12,
          "symbol": "circle"
         },
         "mode": "lines+markers",
         "name": "positive_percent",
         "text": "",
         "type": "scatter",
         "uid": "59b7be5c-f7e6-432c-8c8b-b7753e67be92",
         "x": [
          "2019-01-08",
          "2019-01-15",
          "2019-01-22",
          "2019-01-29",
          "2019-02-05",
          "2019-02-12",
          "2019-02-19",
          "2019-02-26",
          "2019-03-05",
          "2019-03-12",
          "2019-03-19",
          "2019-03-26",
          "2019-04-02",
          "2019-04-09",
          "2019-04-16",
          "2019-04-23",
          "2019-04-30",
          "2019-05-07",
          "2019-05-14",
          "2019-05-21",
          "2019-05-28",
          "2019-06-04",
          "2019-06-11",
          "2019-06-18",
          "2019-06-25",
          "2019-07-02",
          "2019-07-09",
          "2019-07-16",
          "2019-07-23",
          "2019-07-30",
          "2019-08-06",
          "2019-08-13",
          "2019-08-20",
          "2019-08-27",
          "2019-09-03",
          "2019-09-10",
          "2019-09-17",
          "2019-09-24",
          "2019-10-01",
          "2019-10-08",
          "2019-10-15",
          "2019-10-22",
          "2019-10-29",
          "2019-11-05",
          "2019-11-12",
          "2019-11-19",
          "2019-11-26",
          "2019-12-03",
          "2019-12-10",
          "2019-12-17",
          "2019-12-24",
          "2019-12-31",
          "2020-01-08",
          "2020-01-15",
          "2020-01-22",
          "2020-01-29",
          "2020-02-05",
          "2020-02-12",
          "2020-02-19",
          "2020-02-26",
          "2020-03-04",
          "2020-03-11",
          "2020-03-18",
          "2020-03-25",
          "2020-04-01",
          "2020-04-08",
          "2020-04-15",
          "2020-04-22",
          "2020-04-29",
          "2020-05-06",
          "2020-05-13",
          "2020-05-20",
          "2020-05-27",
          "2020-06-03",
          "2020-06-10"
         ],
         "y": [
          80.56,
          92,
          63.16,
          92.31,
          82.35,
          58.82,
          77.78,
          80.95,
          80.95,
          88.46,
          76.47,
          69.23,
          76.47,
          70,
          86.67,
          75,
          71.43,
          90.91,
          83.33,
          69.57,
          80,
          75,
          91.3,
          71.43,
          75,
          64.29,
          88.24,
          84,
          71.79,
          74.29,
          76.32,
          87.1,
          82.05,
          76.67,
          70.97,
          74.29,
          62.5,
          65,
          66.67,
          61.76,
          76.47,
          90.32,
          91.18,
          82.76,
          75.86,
          75,
          84.62,
          81.25,
          80,
          84.62,
          88.89,
          88,
          85,
          76.92,
          85.19,
          75.86,
          83.33,
          81.82,
          84.38,
          73.08,
          73.53,
          61.9,
          80.65,
          75.76,
          78.05,
          83.33,
          85,
          81.63,
          80,
          75,
          77.14,
          87.5,
          82.93,
          81.67,
          46.67
         ]
        }
       ],
       "layout": {
        "annotations": [
         {
          "arrowhead": 7,
          "ax": 0,
          "ay": -40,
          "showarrow": true,
          "text": "2019-01-08 00:00:00",
          "x": "2020-04-01",
          "xref": "x",
          "y": 78.05,
          "yref": "y"
         },
         {
          "arrowhead": 7,
          "ax": 0,
          "ay": -40,
          "showarrow": true,
          "text": "2019-01-15 00:00:00",
          "x": "2019-10-01",
          "xref": "x",
          "y": 66.67,
          "yref": "y"
         },
         {
          "arrowhead": 7,
          "ax": 0,
          "ay": -40,
          "showarrow": true,
          "text": "2019-01-22 00:00:00",
          "x": "2019-12-17",
          "xref": "x",
          "y": 84.62,
          "yref": "y"
         },
         {
          "arrowhead": 7,
          "ax": 0,
          "ay": -40,
          "showarrow": true,
          "text": "2019-01-29 00:00:00",
          "x": "2019-09-17",
          "xref": "x",
          "y": 62.5,
          "yref": "y"
         },
         {
          "arrowhead": 7,
          "ax": 0,
          "ay": -40,
          "showarrow": true,
          "text": "2019-02-05 00:00:00",
          "x": "2020-02-26",
          "xref": "x",
          "y": 73.08,
          "yref": "y"
         },
         {
          "arrowhead": 7,
          "ax": 0,
          "ay": -40,
          "showarrow": true,
          "text": "2019-02-12 00:00:00",
          "x": "2020-05-20",
          "xref": "x",
          "y": 87.5,
          "yref": "y"
         },
         {
          "arrowhead": 7,
          "ax": 0,
          "ay": -40,
          "showarrow": true,
          "text": "2019-02-19 00:00:00",
          "x": "2020-05-06",
          "xref": "x",
          "y": 75,
          "yref": "y"
         },
         {
          "arrowhead": 7,
          "ax": 0,
          "ay": -40,
          "showarrow": true,
          "text": "2019-02-26 00:00:00",
          "x": "2019-05-28",
          "xref": "x",
          "y": 80,
          "yref": "y"
         },
         {
          "arrowhead": 7,
          "ax": 0,
          "ay": -40,
          "showarrow": true,
          "text": "2019-03-05 00:00:00",
          "x": "2019-05-21",
          "xref": "x",
          "y": 69.57,
          "yref": "y"
         },
         {
          "arrowhead": 7,
          "ax": 0,
          "ay": -40,
          "showarrow": true,
          "text": "2019-03-12 00:00:00",
          "x": "2019-06-25",
          "xref": "x",
          "y": 75,
          "yref": "y"
         },
         {
          "arrowhead": 7,
          "ax": 0,
          "ay": -40,
          "showarrow": true,
          "text": "2019-03-19 00:00:00",
          "x": "2020-04-15",
          "xref": "x",
          "y": 85,
          "yref": "y"
         },
         {
          "arrowhead": 7,
          "ax": 0,
          "ay": -40,
          "showarrow": true,
          "text": "2019-03-26 00:00:00",
          "x": "2019-03-12",
          "xref": "x",
          "y": 88.46,
          "yref": "y"
         },
         {
          "arrowhead": 7,
          "ax": 0,
          "ay": -40,
          "showarrow": true,
          "text": "2019-04-02 00:00:00",
          "x": "2019-11-12",
          "xref": "x",
          "y": 75.86,
          "yref": "y"
         },
         {
          "arrowhead": 7,
          "ax": 0,
          "ay": -40,
          "showarrow": true,
          "text": "2019-04-09 00:00:00",
          "x": "2019-10-29",
          "xref": "x",
          "y": 91.18,
          "yref": "y"
         },
         {
          "arrowhead": 7,
          "ax": 0,
          "ay": -40,
          "showarrow": true,
          "text": "2019-04-16 00:00:00",
          "x": "2020-04-29",
          "xref": "x",
          "y": 80,
          "yref": "y"
         },
         {
          "arrowhead": 7,
          "ax": 0,
          "ay": -40,
          "showarrow": true,
          "text": "2019-04-23 00:00:00",
          "x": "2019-10-22",
          "xref": "x",
          "y": 90.32,
          "yref": "y"
         },
         {
          "arrowhead": 7,
          "ax": 0,
          "ay": -40,
          "showarrow": true,
          "text": "2019-04-30 00:00:00",
          "x": "2019-06-11",
          "xref": "x",
          "y": 91.3,
          "yref": "y"
         },
         {
          "arrowhead": 7,
          "ax": 0,
          "ay": -40,
          "showarrow": true,
          "text": "2019-05-07 00:00:00",
          "x": "2019-12-10",
          "xref": "x",
          "y": 80,
          "yref": "y"
         },
         {
          "arrowhead": 7,
          "ax": 0,
          "ay": -40,
          "showarrow": true,
          "text": "2019-05-14 00:00:00",
          "x": "2020-05-27",
          "xref": "x",
          "y": 82.93,
          "yref": "y"
         },
         {
          "arrowhead": 7,
          "ax": 0,
          "ay": -40,
          "showarrow": true,
          "text": "2019-05-21 00:00:00",
          "x": "2019-04-09",
          "xref": "x",
          "y": 70,
          "yref": "y"
         },
         {
          "arrowhead": 7,
          "ax": 0,
          "ay": -40,
          "showarrow": true,
          "text": "2019-05-28 00:00:00",
          "x": "2020-03-04",
          "xref": "x",
          "y": 73.53,
          "yref": "y"
         },
         {
          "arrowhead": 7,
          "ax": 0,
          "ay": -40,
          "showarrow": true,
          "text": "2019-06-04 00:00:00",
          "x": "2019-11-19",
          "xref": "x",
          "y": 75,
          "yref": "y"
         },
         {
          "arrowhead": 7,
          "ax": 0,
          "ay": -40,
          "showarrow": true,
          "text": "2019-06-11 00:00:00",
          "x": "2020-06-03",
          "xref": "x",
          "y": 81.67,
          "yref": "y"
         },
         {
          "arrowhead": 7,
          "ax": 0,
          "ay": -40,
          "showarrow": true,
          "text": "2019-06-18 00:00:00",
          "x": "2019-07-09",
          "xref": "x",
          "y": 88.24,
          "yref": "y"
         },
         {
          "arrowhead": 7,
          "ax": 0,
          "ay": -40,
          "showarrow": true,
          "text": "2019-06-25 00:00:00",
          "x": "2019-08-20",
          "xref": "x",
          "y": 82.05,
          "yref": "y"
         },
         {
          "arrowhead": 7,
          "ax": 0,
          "ay": -40,
          "showarrow": true,
          "text": "2019-07-02 00:00:00",
          "x": "2019-07-02",
          "xref": "x",
          "y": 64.29,
          "yref": "y"
         },
         {
          "arrowhead": 7,
          "ax": 0,
          "ay": -40,
          "showarrow": true,
          "text": "2019-07-09 00:00:00",
          "x": "2019-01-22",
          "xref": "x",
          "y": 63.16,
          "yref": "y"
         },
         {
          "arrowhead": 7,
          "ax": 0,
          "ay": -40,
          "showarrow": true,
          "text": "2019-07-16 00:00:00",
          "x": "2019-07-23",
          "xref": "x",
          "y": 71.79,
          "yref": "y"
         },
         {
          "arrowhead": 7,
          "ax": 0,
          "ay": -40,
          "showarrow": true,
          "text": "2019-07-23 00:00:00",
          "x": "2019-04-02",
          "xref": "x",
          "y": 76.47,
          "yref": "y"
         },
         {
          "arrowhead": 7,
          "ax": 0,
          "ay": -40,
          "showarrow": true,
          "text": "2019-07-30 00:00:00",
          "x": "2020-01-15",
          "xref": "x",
          "y": 76.92,
          "yref": "y"
         },
         {
          "arrowhead": 7,
          "ax": 0,
          "ay": -40,
          "showarrow": true,
          "text": "2019-08-06 00:00:00",
          "x": "2019-08-06",
          "xref": "x",
          "y": 76.32,
          "yref": "y"
         },
         {
          "arrowhead": 7,
          "ax": 0,
          "ay": -40,
          "showarrow": true,
          "text": "2019-08-13 00:00:00",
          "x": "2020-01-22",
          "xref": "x",
          "y": 85.19,
          "yref": "y"
         },
         {
          "arrowhead": 7,
          "ax": 0,
          "ay": -40,
          "showarrow": true,
          "text": "2019-08-20 00:00:00",
          "x": "2020-03-18",
          "xref": "x",
          "y": 80.65,
          "yref": "y"
         },
         {
          "arrowhead": 7,
          "ax": 0,
          "ay": -40,
          "showarrow": true,
          "text": "2019-08-27 00:00:00",
          "x": "2019-10-08",
          "xref": "x",
          "y": 61.76,
          "yref": "y"
         },
         {
          "arrowhead": 7,
          "ax": 0,
          "ay": -40,
          "showarrow": true,
          "text": "2019-09-03 00:00:00",
          "x": "2020-01-29",
          "xref": "x",
          "y": 75.86,
          "yref": "y"
         },
         {
          "arrowhead": 7,
          "ax": 0,
          "ay": -40,
          "showarrow": true,
          "text": "2019-09-10 00:00:00",
          "x": "2019-07-16",
          "xref": "x",
          "y": 84,
          "yref": "y"
         },
         {
          "arrowhead": 7,
          "ax": 0,
          "ay": -40,
          "showarrow": true,
          "text": "2019-09-17 00:00:00",
          "x": "2020-05-13",
          "xref": "x",
          "y": 77.14,
          "yref": "y"
         },
         {
          "arrowhead": 7,
          "ax": 0,
          "ay": -40,
          "showarrow": true,
          "text": "2019-09-24 00:00:00",
          "x": "2019-01-15",
          "xref": "x",
          "y": 92,
          "yref": "y"
         },
         {
          "arrowhead": 7,
          "ax": 0,
          "ay": -40,
          "showarrow": true,
          "text": "2019-10-01 00:00:00",
          "x": "2019-09-10",
          "xref": "x",
          "y": 74.29,
          "yref": "y"
         },
         {
          "arrowhead": 7,
          "ax": 0,
          "ay": -40,
          "showarrow": true,
          "text": "2019-10-08 00:00:00",
          "x": "2019-02-19",
          "xref": "x",
          "y": 77.78,
          "yref": "y"
         },
         {
          "arrowhead": 7,
          "ax": 0,
          "ay": -40,
          "showarrow": true,
          "text": "2019-10-15 00:00:00",
          "x": "2019-11-05",
          "xref": "x",
          "y": 82.76,
          "yref": "y"
         },
         {
          "arrowhead": 7,
          "ax": 0,
          "ay": -40,
          "showarrow": true,
          "text": "2019-10-22 00:00:00",
          "x": "2019-05-07",
          "xref": "x",
          "y": 90.91,
          "yref": "y"
         },
         {
          "arrowhead": 7,
          "ax": 0,
          "ay": -40,
          "showarrow": true,
          "text": "2019-10-29 00:00:00",
          "x": "2019-12-03",
          "xref": "x",
          "y": 81.25,
          "yref": "y"
         },
         {
          "arrowhead": 7,
          "ax": 0,
          "ay": -40,
          "showarrow": true,
          "text": "2019-11-05 00:00:00",
          "x": "2019-06-04",
          "xref": "x",
          "y": 75,
          "yref": "y"
         },
         {
          "arrowhead": 7,
          "ax": 0,
          "ay": -40,
          "showarrow": true,
          "text": "2019-11-12 00:00:00",
          "x": "2019-01-08",
          "xref": "x",
          "y": 80.56,
          "yref": "y"
         },
         {
          "arrowhead": 7,
          "ax": 0,
          "ay": -40,
          "showarrow": true,
          "text": "2019-11-19 00:00:00",
          "x": "2019-12-31",
          "xref": "x",
          "y": 88,
          "yref": "y"
         },
         {
          "arrowhead": 7,
          "ax": 0,
          "ay": -40,
          "showarrow": true,
          "text": "2019-11-26 00:00:00",
          "x": "2020-03-25",
          "xref": "x",
          "y": 75.76,
          "yref": "y"
         },
         {
          "arrowhead": 7,
          "ax": 0,
          "ay": -40,
          "showarrow": true,
          "text": "2019-12-03 00:00:00",
          "x": "2020-01-08",
          "xref": "x",
          "y": 85,
          "yref": "y"
         },
         {
          "arrowhead": 7,
          "ax": 0,
          "ay": -40,
          "showarrow": true,
          "text": "2019-12-10 00:00:00",
          "x": "2020-03-11",
          "xref": "x",
          "y": 61.9,
          "yref": "y"
         },
         {
          "arrowhead": 7,
          "ax": 0,
          "ay": -40,
          "showarrow": true,
          "text": "2019-12-17 00:00:00",
          "x": "2019-08-13",
          "xref": "x",
          "y": 87.1,
          "yref": "y"
         },
         {
          "arrowhead": 7,
          "ax": 0,
          "ay": -40,
          "showarrow": true,
          "text": "2019-12-24 00:00:00",
          "x": "2020-04-22",
          "xref": "x",
          "y": 81.63,
          "yref": "y"
         },
         {
          "arrowhead": 7,
          "ax": 0,
          "ay": -40,
          "showarrow": true,
          "text": "2019-12-31 00:00:00",
          "x": "2019-07-30",
          "xref": "x",
          "y": 74.29,
          "yref": "y"
         },
         {
          "arrowhead": 7,
          "ax": 0,
          "ay": -40,
          "showarrow": true,
          "text": "2020-01-08 00:00:00",
          "x": "2019-12-24",
          "xref": "x",
          "y": 88.89,
          "yref": "y"
         },
         {
          "arrowhead": 7,
          "ax": 0,
          "ay": -40,
          "showarrow": true,
          "text": "2020-01-15 00:00:00",
          "x": "2020-04-08",
          "xref": "x",
          "y": 83.33,
          "yref": "y"
         },
         {
          "arrowhead": 7,
          "ax": 0,
          "ay": -40,
          "showarrow": true,
          "text": "2020-01-22 00:00:00",
          "x": "2019-09-03",
          "xref": "x",
          "y": 70.97,
          "yref": "y"
         },
         {
          "arrowhead": 7,
          "ax": 0,
          "ay": -40,
          "showarrow": true,
          "text": "2020-01-29 00:00:00",
          "x": "2019-06-18",
          "xref": "x",
          "y": 71.43,
          "yref": "y"
         },
         {
          "arrowhead": 7,
          "ax": 0,
          "ay": -40,
          "showarrow": true,
          "text": "2020-02-05 00:00:00",
          "x": "2020-02-19",
          "xref": "x",
          "y": 84.38,
          "yref": "y"
         },
         {
          "arrowhead": 7,
          "ax": 0,
          "ay": -40,
          "showarrow": true,
          "text": "2020-02-12 00:00:00",
          "x": "2019-11-26",
          "xref": "x",
          "y": 84.62,
          "yref": "y"
         },
         {
          "arrowhead": 7,
          "ax": 0,
          "ay": -40,
          "showarrow": true,
          "text": "2020-02-19 00:00:00",
          "x": "2019-02-26",
          "xref": "x",
          "y": 80.95,
          "yref": "y"
         },
         {
          "arrowhead": 7,
          "ax": 0,
          "ay": -40,
          "showarrow": true,
          "text": "2020-02-26 00:00:00",
          "x": "2019-03-05",
          "xref": "x",
          "y": 80.95,
          "yref": "y"
         },
         {
          "arrowhead": 7,
          "ax": 0,
          "ay": -40,
          "showarrow": true,
          "text": "2020-03-04 00:00:00",
          "x": "2019-04-30",
          "xref": "x",
          "y": 71.43,
          "yref": "y"
         },
         {
          "arrowhead": 7,
          "ax": 0,
          "ay": -40,
          "showarrow": true,
          "text": "2020-03-11 00:00:00",
          "x": "2019-08-27",
          "xref": "x",
          "y": 76.67,
          "yref": "y"
         },
         {
          "arrowhead": 7,
          "ax": 0,
          "ay": -40,
          "showarrow": true,
          "text": "2020-03-18 00:00:00",
          "x": "2019-02-12",
          "xref": "x",
          "y": 58.82,
          "yref": "y"
         },
         {
          "arrowhead": 7,
          "ax": 0,
          "ay": -40,
          "showarrow": true,
          "text": "2020-03-25 00:00:00",
          "x": "2019-03-19",
          "xref": "x",
          "y": 76.47,
          "yref": "y"
         },
         {
          "arrowhead": 7,
          "ax": 0,
          "ay": -40,
          "showarrow": true,
          "text": "2020-04-01 00:00:00",
          "x": "2020-02-12",
          "xref": "x",
          "y": 81.82,
          "yref": "y"
         },
         {
          "arrowhead": 7,
          "ax": 0,
          "ay": -40,
          "showarrow": true,
          "text": "2020-04-08 00:00:00",
          "x": "2019-10-15",
          "xref": "x",
          "y": 76.47,
          "yref": "y"
         },
         {
          "arrowhead": 7,
          "ax": 0,
          "ay": -40,
          "showarrow": true,
          "text": "2020-04-15 00:00:00",
          "x": "2019-04-23",
          "xref": "x",
          "y": 75,
          "yref": "y"
         },
         {
          "arrowhead": 7,
          "ax": 0,
          "ay": -40,
          "showarrow": true,
          "text": "2020-04-22 00:00:00",
          "x": "2019-05-14",
          "xref": "x",
          "y": 83.33,
          "yref": "y"
         },
         {
          "arrowhead": 7,
          "ax": 0,
          "ay": -40,
          "showarrow": true,
          "text": "2020-04-29 00:00:00",
          "x": "2019-09-24",
          "xref": "x",
          "y": 65,
          "yref": "y"
         },
         {
          "arrowhead": 7,
          "ax": 0,
          "ay": -40,
          "showarrow": true,
          "text": "2020-05-06 00:00:00",
          "x": "2019-02-05",
          "xref": "x",
          "y": 82.35,
          "yref": "y"
         },
         {
          "arrowhead": 7,
          "ax": 0,
          "ay": -40,
          "showarrow": true,
          "text": "2020-05-13 00:00:00",
          "x": "2020-06-10",
          "xref": "x",
          "y": 46.67,
          "yref": "y"
         },
         {
          "arrowhead": 7,
          "ax": 0,
          "ay": -40,
          "showarrow": true,
          "text": "2020-05-20 00:00:00",
          "x": "2020-02-05",
          "xref": "x",
          "y": 83.33,
          "yref": "y"
         },
         {
          "arrowhead": 7,
          "ax": 0,
          "ay": -40,
          "showarrow": true,
          "text": "2020-05-27 00:00:00",
          "x": "2019-03-26",
          "xref": "x",
          "y": 69.23,
          "yref": "y"
         },
         {
          "arrowhead": 7,
          "ax": 0,
          "ay": -40,
          "showarrow": true,
          "text": "2020-06-03 00:00:00",
          "x": "2019-04-16",
          "xref": "x",
          "y": 86.67,
          "yref": "y"
         },
         {
          "arrowhead": 7,
          "ax": 0,
          "ay": -40,
          "showarrow": true,
          "text": "2020-06-10 00:00:00",
          "x": "2019-01-29",
          "xref": "x",
          "y": 92.31,
          "yref": "y"
         }
        ],
        "showlegend": false,
        "yaxis": {
         "range": [
          0,
          100
         ]
        }
       }
      },
      "text/html": [
       "<div>\n",
       "        \n",
       "        \n",
       "            <div id=\"b7d11fc0-43c8-435e-8648-f571946c4d67\" class=\"plotly-graph-div\" style=\"height:525px; width:100%;\"></div>\n",
       "            <script type=\"text/javascript\">\n",
       "                require([\"plotly\"], function(Plotly) {\n",
       "                    window.PLOTLYENV=window.PLOTLYENV || {};\n",
       "                    window.PLOTLYENV.BASE_URL='https://plot.ly';\n",
       "                    \n",
       "                if (document.getElementById(\"b7d11fc0-43c8-435e-8648-f571946c4d67\")) {\n",
       "                    Plotly.newPlot(\n",
       "                        'b7d11fc0-43c8-435e-8648-f571946c4d67',\n",
       "                        [{\"line\": {\"color\": \"rgba(255, 153, 51, 1.0)\", \"dash\": \"solid\", \"shape\": \"linear\", \"width\": 1.3}, \"marker\": {\"size\": 12, \"symbol\": \"circle\"}, \"mode\": \"lines+markers\", \"name\": \"positive_percent\", \"text\": \"\", \"type\": \"scatter\", \"uid\": \"59b7be5c-f7e6-432c-8c8b-b7753e67be92\", \"x\": [\"2019-01-08\", \"2019-01-15\", \"2019-01-22\", \"2019-01-29\", \"2019-02-05\", \"2019-02-12\", \"2019-02-19\", \"2019-02-26\", \"2019-03-05\", \"2019-03-12\", \"2019-03-19\", \"2019-03-26\", \"2019-04-02\", \"2019-04-09\", \"2019-04-16\", \"2019-04-23\", \"2019-04-30\", \"2019-05-07\", \"2019-05-14\", \"2019-05-21\", \"2019-05-28\", \"2019-06-04\", \"2019-06-11\", \"2019-06-18\", \"2019-06-25\", \"2019-07-02\", \"2019-07-09\", \"2019-07-16\", \"2019-07-23\", \"2019-07-30\", \"2019-08-06\", \"2019-08-13\", \"2019-08-20\", \"2019-08-27\", \"2019-09-03\", \"2019-09-10\", \"2019-09-17\", \"2019-09-24\", \"2019-10-01\", \"2019-10-08\", \"2019-10-15\", \"2019-10-22\", \"2019-10-29\", \"2019-11-05\", \"2019-11-12\", \"2019-11-19\", \"2019-11-26\", \"2019-12-03\", \"2019-12-10\", \"2019-12-17\", \"2019-12-24\", \"2019-12-31\", \"2020-01-08\", \"2020-01-15\", \"2020-01-22\", \"2020-01-29\", \"2020-02-05\", \"2020-02-12\", \"2020-02-19\", \"2020-02-26\", \"2020-03-04\", \"2020-03-11\", \"2020-03-18\", \"2020-03-25\", \"2020-04-01\", \"2020-04-08\", \"2020-04-15\", \"2020-04-22\", \"2020-04-29\", \"2020-05-06\", \"2020-05-13\", \"2020-05-20\", \"2020-05-27\", \"2020-06-03\", \"2020-06-10\"], \"y\": [80.56, 92.0, 63.16, 92.31, 82.35, 58.82, 77.78, 80.95, 80.95, 88.46, 76.47, 69.23, 76.47, 70.0, 86.67, 75.0, 71.43, 90.91, 83.33, 69.57, 80.0, 75.0, 91.3, 71.43, 75.0, 64.29, 88.24, 84.0, 71.79, 74.29, 76.32, 87.1, 82.05, 76.67, 70.97, 74.29, 62.5, 65.0, 66.67, 61.76, 76.47, 90.32, 91.18, 82.76, 75.86, 75.0, 84.62, 81.25, 80.0, 84.62, 88.89, 88.0, 85.0, 76.92, 85.19, 75.86, 83.33, 81.82, 84.38, 73.08, 73.53, 61.9, 80.65, 75.76, 78.05, 83.33, 85.0, 81.63, 80.0, 75.0, 77.14, 87.5, 82.93, 81.67, 46.67]}],\n",
       "                        {\"annotations\": [{\"arrowhead\": 7, \"ax\": 0, \"ay\": -40, \"showarrow\": true, \"text\": \"2019-01-08 00:00:00\", \"x\": \"2020-04-01\", \"xref\": \"x\", \"y\": 78.05, \"yref\": \"y\"}, {\"arrowhead\": 7, \"ax\": 0, \"ay\": -40, \"showarrow\": true, \"text\": \"2019-01-15 00:00:00\", \"x\": \"2019-10-01\", \"xref\": \"x\", \"y\": 66.67, \"yref\": \"y\"}, {\"arrowhead\": 7, \"ax\": 0, \"ay\": -40, \"showarrow\": true, \"text\": \"2019-01-22 00:00:00\", \"x\": \"2019-12-17\", \"xref\": \"x\", \"y\": 84.62, \"yref\": \"y\"}, {\"arrowhead\": 7, \"ax\": 0, \"ay\": -40, \"showarrow\": true, \"text\": \"2019-01-29 00:00:00\", \"x\": \"2019-09-17\", \"xref\": \"x\", \"y\": 62.5, \"yref\": \"y\"}, {\"arrowhead\": 7, \"ax\": 0, \"ay\": -40, \"showarrow\": true, \"text\": \"2019-02-05 00:00:00\", \"x\": \"2020-02-26\", \"xref\": \"x\", \"y\": 73.08, \"yref\": \"y\"}, {\"arrowhead\": 7, \"ax\": 0, \"ay\": -40, \"showarrow\": true, \"text\": \"2019-02-12 00:00:00\", \"x\": \"2020-05-20\", \"xref\": \"x\", \"y\": 87.5, \"yref\": \"y\"}, {\"arrowhead\": 7, \"ax\": 0, \"ay\": -40, \"showarrow\": true, \"text\": \"2019-02-19 00:00:00\", \"x\": \"2020-05-06\", \"xref\": \"x\", \"y\": 75.0, \"yref\": \"y\"}, {\"arrowhead\": 7, \"ax\": 0, \"ay\": -40, \"showarrow\": true, \"text\": \"2019-02-26 00:00:00\", \"x\": \"2019-05-28\", \"xref\": \"x\", \"y\": 80.0, \"yref\": \"y\"}, {\"arrowhead\": 7, \"ax\": 0, \"ay\": -40, \"showarrow\": true, \"text\": \"2019-03-05 00:00:00\", \"x\": \"2019-05-21\", \"xref\": \"x\", \"y\": 69.57, \"yref\": \"y\"}, {\"arrowhead\": 7, \"ax\": 0, \"ay\": -40, \"showarrow\": true, \"text\": \"2019-03-12 00:00:00\", \"x\": \"2019-06-25\", \"xref\": \"x\", \"y\": 75.0, \"yref\": \"y\"}, {\"arrowhead\": 7, \"ax\": 0, \"ay\": -40, \"showarrow\": true, \"text\": \"2019-03-19 00:00:00\", \"x\": \"2020-04-15\", \"xref\": \"x\", \"y\": 85.0, \"yref\": \"y\"}, {\"arrowhead\": 7, \"ax\": 0, \"ay\": -40, \"showarrow\": true, \"text\": \"2019-03-26 00:00:00\", \"x\": \"2019-03-12\", \"xref\": \"x\", \"y\": 88.46, \"yref\": \"y\"}, {\"arrowhead\": 7, \"ax\": 0, \"ay\": -40, \"showarrow\": true, \"text\": \"2019-04-02 00:00:00\", \"x\": \"2019-11-12\", \"xref\": \"x\", \"y\": 75.86, \"yref\": \"y\"}, {\"arrowhead\": 7, \"ax\": 0, \"ay\": -40, \"showarrow\": true, \"text\": \"2019-04-09 00:00:00\", \"x\": \"2019-10-29\", \"xref\": \"x\", \"y\": 91.18, \"yref\": \"y\"}, {\"arrowhead\": 7, \"ax\": 0, \"ay\": -40, \"showarrow\": true, \"text\": \"2019-04-16 00:00:00\", \"x\": \"2020-04-29\", \"xref\": \"x\", \"y\": 80.0, \"yref\": \"y\"}, {\"arrowhead\": 7, \"ax\": 0, \"ay\": -40, \"showarrow\": true, \"text\": \"2019-04-23 00:00:00\", \"x\": \"2019-10-22\", \"xref\": \"x\", \"y\": 90.32, \"yref\": \"y\"}, {\"arrowhead\": 7, \"ax\": 0, \"ay\": -40, \"showarrow\": true, \"text\": \"2019-04-30 00:00:00\", \"x\": \"2019-06-11\", \"xref\": \"x\", \"y\": 91.3, \"yref\": \"y\"}, {\"arrowhead\": 7, \"ax\": 0, \"ay\": -40, \"showarrow\": true, \"text\": \"2019-05-07 00:00:00\", \"x\": \"2019-12-10\", \"xref\": \"x\", \"y\": 80.0, \"yref\": \"y\"}, {\"arrowhead\": 7, \"ax\": 0, \"ay\": -40, \"showarrow\": true, \"text\": \"2019-05-14 00:00:00\", \"x\": \"2020-05-27\", \"xref\": \"x\", \"y\": 82.93, \"yref\": \"y\"}, {\"arrowhead\": 7, \"ax\": 0, \"ay\": -40, \"showarrow\": true, \"text\": \"2019-05-21 00:00:00\", \"x\": \"2019-04-09\", \"xref\": \"x\", \"y\": 70.0, \"yref\": \"y\"}, {\"arrowhead\": 7, \"ax\": 0, \"ay\": -40, \"showarrow\": true, \"text\": \"2019-05-28 00:00:00\", \"x\": \"2020-03-04\", \"xref\": \"x\", \"y\": 73.53, \"yref\": \"y\"}, {\"arrowhead\": 7, \"ax\": 0, \"ay\": -40, \"showarrow\": true, \"text\": \"2019-06-04 00:00:00\", \"x\": \"2019-11-19\", \"xref\": \"x\", \"y\": 75.0, \"yref\": \"y\"}, {\"arrowhead\": 7, \"ax\": 0, \"ay\": -40, \"showarrow\": true, \"text\": \"2019-06-11 00:00:00\", \"x\": \"2020-06-03\", \"xref\": \"x\", \"y\": 81.67, \"yref\": \"y\"}, {\"arrowhead\": 7, \"ax\": 0, \"ay\": -40, \"showarrow\": true, \"text\": \"2019-06-18 00:00:00\", \"x\": \"2019-07-09\", \"xref\": \"x\", \"y\": 88.24, \"yref\": \"y\"}, {\"arrowhead\": 7, \"ax\": 0, \"ay\": -40, \"showarrow\": true, \"text\": \"2019-06-25 00:00:00\", \"x\": \"2019-08-20\", \"xref\": \"x\", \"y\": 82.05, \"yref\": \"y\"}, {\"arrowhead\": 7, \"ax\": 0, \"ay\": -40, \"showarrow\": true, \"text\": \"2019-07-02 00:00:00\", \"x\": \"2019-07-02\", \"xref\": \"x\", \"y\": 64.29, \"yref\": \"y\"}, {\"arrowhead\": 7, \"ax\": 0, \"ay\": -40, \"showarrow\": true, \"text\": \"2019-07-09 00:00:00\", \"x\": \"2019-01-22\", \"xref\": \"x\", \"y\": 63.16, \"yref\": \"y\"}, {\"arrowhead\": 7, \"ax\": 0, \"ay\": -40, \"showarrow\": true, \"text\": \"2019-07-16 00:00:00\", \"x\": \"2019-07-23\", \"xref\": \"x\", \"y\": 71.79, \"yref\": \"y\"}, {\"arrowhead\": 7, \"ax\": 0, \"ay\": -40, \"showarrow\": true, \"text\": \"2019-07-23 00:00:00\", \"x\": \"2019-04-02\", \"xref\": \"x\", \"y\": 76.47, \"yref\": \"y\"}, {\"arrowhead\": 7, \"ax\": 0, \"ay\": -40, \"showarrow\": true, \"text\": \"2019-07-30 00:00:00\", \"x\": \"2020-01-15\", \"xref\": \"x\", \"y\": 76.92, \"yref\": \"y\"}, {\"arrowhead\": 7, \"ax\": 0, \"ay\": -40, \"showarrow\": true, \"text\": \"2019-08-06 00:00:00\", \"x\": \"2019-08-06\", \"xref\": \"x\", \"y\": 76.32, \"yref\": \"y\"}, {\"arrowhead\": 7, \"ax\": 0, \"ay\": -40, \"showarrow\": true, \"text\": \"2019-08-13 00:00:00\", \"x\": \"2020-01-22\", \"xref\": \"x\", \"y\": 85.19, \"yref\": \"y\"}, {\"arrowhead\": 7, \"ax\": 0, \"ay\": -40, \"showarrow\": true, \"text\": \"2019-08-20 00:00:00\", \"x\": \"2020-03-18\", \"xref\": \"x\", \"y\": 80.65, \"yref\": \"y\"}, {\"arrowhead\": 7, \"ax\": 0, \"ay\": -40, \"showarrow\": true, \"text\": \"2019-08-27 00:00:00\", \"x\": \"2019-10-08\", \"xref\": \"x\", \"y\": 61.76, \"yref\": \"y\"}, {\"arrowhead\": 7, \"ax\": 0, \"ay\": -40, \"showarrow\": true, \"text\": \"2019-09-03 00:00:00\", \"x\": \"2020-01-29\", \"xref\": \"x\", \"y\": 75.86, \"yref\": \"y\"}, {\"arrowhead\": 7, \"ax\": 0, \"ay\": -40, \"showarrow\": true, \"text\": \"2019-09-10 00:00:00\", \"x\": \"2019-07-16\", \"xref\": \"x\", \"y\": 84.0, \"yref\": \"y\"}, {\"arrowhead\": 7, \"ax\": 0, \"ay\": -40, \"showarrow\": true, \"text\": \"2019-09-17 00:00:00\", \"x\": \"2020-05-13\", \"xref\": \"x\", \"y\": 77.14, \"yref\": \"y\"}, {\"arrowhead\": 7, \"ax\": 0, \"ay\": -40, \"showarrow\": true, \"text\": \"2019-09-24 00:00:00\", \"x\": \"2019-01-15\", \"xref\": \"x\", \"y\": 92.0, \"yref\": \"y\"}, {\"arrowhead\": 7, \"ax\": 0, \"ay\": -40, \"showarrow\": true, \"text\": \"2019-10-01 00:00:00\", \"x\": \"2019-09-10\", \"xref\": \"x\", \"y\": 74.29, \"yref\": \"y\"}, {\"arrowhead\": 7, \"ax\": 0, \"ay\": -40, \"showarrow\": true, \"text\": \"2019-10-08 00:00:00\", \"x\": \"2019-02-19\", \"xref\": \"x\", \"y\": 77.78, \"yref\": \"y\"}, {\"arrowhead\": 7, \"ax\": 0, \"ay\": -40, \"showarrow\": true, \"text\": \"2019-10-15 00:00:00\", \"x\": \"2019-11-05\", \"xref\": \"x\", \"y\": 82.76, \"yref\": \"y\"}, {\"arrowhead\": 7, \"ax\": 0, \"ay\": -40, \"showarrow\": true, \"text\": \"2019-10-22 00:00:00\", \"x\": \"2019-05-07\", \"xref\": \"x\", \"y\": 90.91, \"yref\": \"y\"}, {\"arrowhead\": 7, \"ax\": 0, \"ay\": -40, \"showarrow\": true, \"text\": \"2019-10-29 00:00:00\", \"x\": \"2019-12-03\", \"xref\": \"x\", \"y\": 81.25, \"yref\": \"y\"}, {\"arrowhead\": 7, \"ax\": 0, \"ay\": -40, \"showarrow\": true, \"text\": \"2019-11-05 00:00:00\", \"x\": \"2019-06-04\", \"xref\": \"x\", \"y\": 75.0, \"yref\": \"y\"}, {\"arrowhead\": 7, \"ax\": 0, \"ay\": -40, \"showarrow\": true, \"text\": \"2019-11-12 00:00:00\", \"x\": \"2019-01-08\", \"xref\": \"x\", \"y\": 80.56, \"yref\": \"y\"}, {\"arrowhead\": 7, \"ax\": 0, \"ay\": -40, \"showarrow\": true, \"text\": \"2019-11-19 00:00:00\", \"x\": \"2019-12-31\", \"xref\": \"x\", \"y\": 88.0, \"yref\": \"y\"}, {\"arrowhead\": 7, \"ax\": 0, \"ay\": -40, \"showarrow\": true, \"text\": \"2019-11-26 00:00:00\", \"x\": \"2020-03-25\", \"xref\": \"x\", \"y\": 75.76, \"yref\": \"y\"}, {\"arrowhead\": 7, \"ax\": 0, \"ay\": -40, \"showarrow\": true, \"text\": \"2019-12-03 00:00:00\", \"x\": \"2020-01-08\", \"xref\": \"x\", \"y\": 85.0, \"yref\": \"y\"}, {\"arrowhead\": 7, \"ax\": 0, \"ay\": -40, \"showarrow\": true, \"text\": \"2019-12-10 00:00:00\", \"x\": \"2020-03-11\", \"xref\": \"x\", \"y\": 61.9, \"yref\": \"y\"}, {\"arrowhead\": 7, \"ax\": 0, \"ay\": -40, \"showarrow\": true, \"text\": \"2019-12-17 00:00:00\", \"x\": \"2019-08-13\", \"xref\": \"x\", \"y\": 87.1, \"yref\": \"y\"}, {\"arrowhead\": 7, \"ax\": 0, \"ay\": -40, \"showarrow\": true, \"text\": \"2019-12-24 00:00:00\", \"x\": \"2020-04-22\", \"xref\": \"x\", \"y\": 81.63, \"yref\": \"y\"}, {\"arrowhead\": 7, \"ax\": 0, \"ay\": -40, \"showarrow\": true, \"text\": \"2019-12-31 00:00:00\", \"x\": \"2019-07-30\", \"xref\": \"x\", \"y\": 74.29, \"yref\": \"y\"}, {\"arrowhead\": 7, \"ax\": 0, \"ay\": -40, \"showarrow\": true, \"text\": \"2020-01-08 00:00:00\", \"x\": \"2019-12-24\", \"xref\": \"x\", \"y\": 88.89, \"yref\": \"y\"}, {\"arrowhead\": 7, \"ax\": 0, \"ay\": -40, \"showarrow\": true, \"text\": \"2020-01-15 00:00:00\", \"x\": \"2020-04-08\", \"xref\": \"x\", \"y\": 83.33, \"yref\": \"y\"}, {\"arrowhead\": 7, \"ax\": 0, \"ay\": -40, \"showarrow\": true, \"text\": \"2020-01-22 00:00:00\", \"x\": \"2019-09-03\", \"xref\": \"x\", \"y\": 70.97, \"yref\": \"y\"}, {\"arrowhead\": 7, \"ax\": 0, \"ay\": -40, \"showarrow\": true, \"text\": \"2020-01-29 00:00:00\", \"x\": \"2019-06-18\", \"xref\": \"x\", \"y\": 71.43, \"yref\": \"y\"}, {\"arrowhead\": 7, \"ax\": 0, \"ay\": -40, \"showarrow\": true, \"text\": \"2020-02-05 00:00:00\", \"x\": \"2020-02-19\", \"xref\": \"x\", \"y\": 84.38, \"yref\": \"y\"}, {\"arrowhead\": 7, \"ax\": 0, \"ay\": -40, \"showarrow\": true, \"text\": \"2020-02-12 00:00:00\", \"x\": \"2019-11-26\", \"xref\": \"x\", \"y\": 84.62, \"yref\": \"y\"}, {\"arrowhead\": 7, \"ax\": 0, \"ay\": -40, \"showarrow\": true, \"text\": \"2020-02-19 00:00:00\", \"x\": \"2019-02-26\", \"xref\": \"x\", \"y\": 80.95, \"yref\": \"y\"}, {\"arrowhead\": 7, \"ax\": 0, \"ay\": -40, \"showarrow\": true, \"text\": \"2020-02-26 00:00:00\", \"x\": \"2019-03-05\", \"xref\": \"x\", \"y\": 80.95, \"yref\": \"y\"}, {\"arrowhead\": 7, \"ax\": 0, \"ay\": -40, \"showarrow\": true, \"text\": \"2020-03-04 00:00:00\", \"x\": \"2019-04-30\", \"xref\": \"x\", \"y\": 71.43, \"yref\": \"y\"}, {\"arrowhead\": 7, \"ax\": 0, \"ay\": -40, \"showarrow\": true, \"text\": \"2020-03-11 00:00:00\", \"x\": \"2019-08-27\", \"xref\": \"x\", \"y\": 76.67, \"yref\": \"y\"}, {\"arrowhead\": 7, \"ax\": 0, \"ay\": -40, \"showarrow\": true, \"text\": \"2020-03-18 00:00:00\", \"x\": \"2019-02-12\", \"xref\": \"x\", \"y\": 58.82, \"yref\": \"y\"}, {\"arrowhead\": 7, \"ax\": 0, \"ay\": -40, \"showarrow\": true, \"text\": \"2020-03-25 00:00:00\", \"x\": \"2019-03-19\", \"xref\": \"x\", \"y\": 76.47, \"yref\": \"y\"}, {\"arrowhead\": 7, \"ax\": 0, \"ay\": -40, \"showarrow\": true, \"text\": \"2020-04-01 00:00:00\", \"x\": \"2020-02-12\", \"xref\": \"x\", \"y\": 81.82, \"yref\": \"y\"}, {\"arrowhead\": 7, \"ax\": 0, \"ay\": -40, \"showarrow\": true, \"text\": \"2020-04-08 00:00:00\", \"x\": \"2019-10-15\", \"xref\": \"x\", \"y\": 76.47, \"yref\": \"y\"}, {\"arrowhead\": 7, \"ax\": 0, \"ay\": -40, \"showarrow\": true, \"text\": \"2020-04-15 00:00:00\", \"x\": \"2019-04-23\", \"xref\": \"x\", \"y\": 75.0, \"yref\": \"y\"}, {\"arrowhead\": 7, \"ax\": 0, \"ay\": -40, \"showarrow\": true, \"text\": \"2020-04-22 00:00:00\", \"x\": \"2019-05-14\", \"xref\": \"x\", \"y\": 83.33, \"yref\": \"y\"}, {\"arrowhead\": 7, \"ax\": 0, \"ay\": -40, \"showarrow\": true, \"text\": \"2020-04-29 00:00:00\", \"x\": \"2019-09-24\", \"xref\": \"x\", \"y\": 65.0, \"yref\": \"y\"}, {\"arrowhead\": 7, \"ax\": 0, \"ay\": -40, \"showarrow\": true, \"text\": \"2020-05-06 00:00:00\", \"x\": \"2019-02-05\", \"xref\": \"x\", \"y\": 82.35, \"yref\": \"y\"}, {\"arrowhead\": 7, \"ax\": 0, \"ay\": -40, \"showarrow\": true, \"text\": \"2020-05-13 00:00:00\", \"x\": \"2020-06-10\", \"xref\": \"x\", \"y\": 46.67, \"yref\": \"y\"}, {\"arrowhead\": 7, \"ax\": 0, \"ay\": -40, \"showarrow\": true, \"text\": \"2020-05-20 00:00:00\", \"x\": \"2020-02-05\", \"xref\": \"x\", \"y\": 83.33, \"yref\": \"y\"}, {\"arrowhead\": 7, \"ax\": 0, \"ay\": -40, \"showarrow\": true, \"text\": \"2020-05-27 00:00:00\", \"x\": \"2019-03-26\", \"xref\": \"x\", \"y\": 69.23, \"yref\": \"y\"}, {\"arrowhead\": 7, \"ax\": 0, \"ay\": -40, \"showarrow\": true, \"text\": \"2020-06-03 00:00:00\", \"x\": \"2019-04-16\", \"xref\": \"x\", \"y\": 86.67, \"yref\": \"y\"}, {\"arrowhead\": 7, \"ax\": 0, \"ay\": -40, \"showarrow\": true, \"text\": \"2020-06-10 00:00:00\", \"x\": \"2019-01-29\", \"xref\": \"x\", \"y\": 92.31, \"yref\": \"y\"}], \"showlegend\": false, \"yaxis\": {\"range\": [0, 100]}},\n",
       "                        {\"showLink\": true, \"linkText\": \"Export to plot.ly\", \"plotlyServerURL\": \"https://plot.ly\", \"responsive\": true}\n",
       "                    ).then(function(){\n",
       "                            \n",
       "var gd = document.getElementById('b7d11fc0-43c8-435e-8648-f571946c4d67');\n",
       "var x = new MutationObserver(function (mutations, observer) {{\n",
       "        var display = window.getComputedStyle(gd).display;\n",
       "        if (!display || display === 'none') {{\n",
       "            console.log([gd, 'removed!']);\n",
       "            Plotly.purge(gd);\n",
       "            observer.disconnect();\n",
       "        }}\n",
       "}});\n",
       "\n",
       "// Listen for the removal of the full notebook cells\n",
       "var notebookContainer = gd.closest('#notebook-container');\n",
       "if (notebookContainer) {{\n",
       "    x.observe(notebookContainer, {childList: true});\n",
       "}}\n",
       "\n",
       "// Listen for the clearing of the current output cell\n",
       "var outputEl = gd.closest('.output');\n",
       "if (outputEl) {{\n",
       "    x.observe(outputEl, {childList: true});\n",
       "}}\n",
       "\n",
       "                        })\n",
       "                };\n",
       "                });\n",
       "            </script>\n",
       "        </div>"
      ]
     },
     "metadata": {},
     "output_type": "display_data"
    }
   ],
   "source": [
    "# executar anotacoes\n",
    "layout = annotaText(ice_date_eval['date'], ice_date_eval['positive_percent'], ice_date_eval['date'], 0, 100)\n",
    "\n",
    "# visualizar grafico\n",
    "fig = ice_date_eval.iplot(x = 'date',\n",
    "           y='positive_percent' , \n",
    "           mode='lines+markers',\n",
    "           layout=layout.to_plotly_json(),\n",
    "           filename='test')"
   ]
  },
  {
   "cell_type": "code",
   "execution_count": 133,
   "metadata": {},
   "outputs": [],
   "source": [
    "def layLine(min, max):\n",
    "    import plotly.graph_objs as go\n",
    "    layout = go.Layout( {'legend': {'bgcolor': '#F5F6F9', 'font': {'color': '#4D5663'}},\n",
    "                   'paper_bgcolor': '#F5F6F9',\n",
    "                   'plot_bgcolor': '#F5F6F9',\n",
    "                   'title': {'font': {'color': '#4D5663'}},\n",
    "                   'xaxis': {'gridcolor': '#E1E5ED',\n",
    "                             'showgrid': True,\n",
    "                             'tickfont': {'color': '#4D5663'},\n",
    "                             'title': {'font': {'color': '#4D5663'}, 'text': ''},\n",
    "                             'zerolinecolor': '#E1E5ED'},\n",
    "                   'yaxis': {'gridcolor': '#E1E5ED',\n",
    "                             'range' : (min, max),\n",
    "                             'showgrid': True,\n",
    "                             'tickfont': {'color': '#4D5663'},\n",
    "                             'title': {'font': {'color': '#4D5663'}, 'text': ''},\n",
    "                             'zerolinecolor': '#E1E5ED'}}\n",
    "    )\n",
    "    return layout"
   ]
  },
  {
   "cell_type": "code",
   "execution_count": 134,
   "metadata": {},
   "outputs": [
    {
     "name": "stderr",
     "output_type": "stream",
     "text": [
      "c:\\users\\dell\\appdata\\local\\programs\\python\\python37\\lib\\site-packages\\numpy\\core\\fromnumeric.py:2542: FutureWarning:\n",
      "\n",
      "Method .ptp is deprecated and will be removed in a future version. Use numpy.ptp instead.\n",
      "\n"
     ]
    },
    {
     "data": {
      "application/vnd.plotly.v1+json": {
       "config": {
        "linkText": "Export to plot.ly",
        "plotlyServerURL": "https://plot.ly",
        "showLink": true
       },
       "data": [
        {
         "line": {
          "color": "rgba(135, 205, 237, 1.0)",
          "dash": "solid",
          "shape": "linear",
          "width": 1.3
         },
         "marker": {
          "size": 8,
          "symbol": "circle"
         },
         "mode": "lines+markers",
         "name": "positive_percent",
         "text": "",
         "type": "scatter",
         "uid": "453c4098-9bdb-4d4c-96df-42d90e67e8cd",
         "x": [
          "2019-01-08",
          "2019-01-15",
          "2019-01-22",
          "2019-01-29",
          "2019-02-05",
          "2019-02-12",
          "2019-02-19",
          "2019-02-26",
          "2019-03-05",
          "2019-03-12",
          "2019-03-19",
          "2019-03-26",
          "2019-04-02",
          "2019-04-09",
          "2019-04-16",
          "2019-04-23",
          "2019-04-30",
          "2019-05-07",
          "2019-05-14",
          "2019-05-21",
          "2019-05-28",
          "2019-06-04",
          "2019-06-11",
          "2019-06-18",
          "2019-06-25",
          "2019-07-02",
          "2019-07-09",
          "2019-07-16",
          "2019-07-23",
          "2019-07-30",
          "2019-08-06",
          "2019-08-13",
          "2019-08-20",
          "2019-08-27",
          "2019-09-03",
          "2019-09-10",
          "2019-09-17",
          "2019-09-24",
          "2019-10-01",
          "2019-10-08",
          "2019-10-15",
          "2019-10-22",
          "2019-10-29",
          "2019-11-05",
          "2019-11-12",
          "2019-11-19",
          "2019-11-26",
          "2019-12-03",
          "2019-12-10",
          "2019-12-17",
          "2019-12-24",
          "2019-12-31",
          "2020-01-08",
          "2020-01-15",
          "2020-01-22",
          "2020-01-29",
          "2020-02-05",
          "2020-02-12",
          "2020-02-19",
          "2020-02-26",
          "2020-03-04",
          "2020-03-11",
          "2020-03-18",
          "2020-03-25",
          "2020-04-01",
          "2020-04-08",
          "2020-04-15",
          "2020-04-22",
          "2020-04-29",
          "2020-05-06",
          "2020-05-13",
          "2020-05-20",
          "2020-05-27",
          "2020-06-03",
          "2020-06-10"
         ],
         "y": [
          80.56,
          92,
          63.16,
          92.31,
          82.35,
          58.82,
          77.78,
          80.95,
          80.95,
          88.46,
          76.47,
          69.23,
          76.47,
          70,
          86.67,
          75,
          71.43,
          90.91,
          83.33,
          69.57,
          80,
          75,
          91.3,
          71.43,
          75,
          64.29,
          88.24,
          84,
          71.79,
          74.29,
          76.32,
          87.1,
          82.05,
          76.67,
          70.97,
          74.29,
          62.5,
          65,
          66.67,
          61.76,
          76.47,
          90.32,
          91.18,
          82.76,
          75.86,
          75,
          84.62,
          81.25,
          80,
          84.62,
          88.89,
          88,
          85,
          76.92,
          85.19,
          75.86,
          83.33,
          81.82,
          84.38,
          73.08,
          73.53,
          61.9,
          80.65,
          75.76,
          78.05,
          83.33,
          85,
          81.63,
          80,
          75,
          77.14,
          87.5,
          82.93,
          81.67,
          46.67
         ]
        },
        {
         "line": {
          "color": "rgba(255, 0, 136, 1.0)",
          "dash": "dash",
          "shape": "linear",
          "width": 3
         },
         "mode": "lines",
         "name": "78.09*x+0.00",
         "type": "scatter",
         "uid": "94f73399-bbb1-4d80-b2a7-602ed48e27ae",
         "x": [
          "2019-01-08",
          "2019-01-15",
          "2019-01-22",
          "2019-01-29",
          "2019-02-05",
          "2019-02-12",
          "2019-02-19",
          "2019-02-26",
          "2019-03-05",
          "2019-03-12",
          "2019-03-19",
          "2019-03-26",
          "2019-04-02",
          "2019-04-09",
          "2019-04-16",
          "2019-04-23",
          "2019-04-30",
          "2019-05-07",
          "2019-05-14",
          "2019-05-21",
          "2019-05-28",
          "2019-06-04",
          "2019-06-11",
          "2019-06-18",
          "2019-06-25",
          "2019-07-02",
          "2019-07-09",
          "2019-07-16",
          "2019-07-23",
          "2019-07-30",
          "2019-08-06",
          "2019-08-13",
          "2019-08-20",
          "2019-08-27",
          "2019-09-03",
          "2019-09-10",
          "2019-09-17",
          "2019-09-24",
          "2019-10-01",
          "2019-10-08",
          "2019-10-15",
          "2019-10-22",
          "2019-10-29",
          "2019-11-05",
          "2019-11-12",
          "2019-11-19",
          "2019-11-26",
          "2019-12-03",
          "2019-12-10",
          "2019-12-17",
          "2019-12-24",
          "2019-12-31",
          "2020-01-08",
          "2020-01-15",
          "2020-01-22",
          "2020-01-29",
          "2020-02-05",
          "2020-02-12",
          "2020-02-19",
          "2020-02-26",
          "2020-03-04",
          "2020-03-11",
          "2020-03-18",
          "2020-03-25",
          "2020-04-01",
          "2020-04-08",
          "2020-04-15",
          "2020-04-22",
          "2020-04-29",
          "2020-05-06",
          "2020-05-13",
          "2020-05-20",
          "2020-05-27",
          "2020-06-03",
          "2020-06-10"
         ],
         "y": [
          78.09289824561404,
          78.09413522996681,
          78.09537221431958,
          78.09660919867235,
          78.09784618302513,
          78.09908316737791,
          78.10032015173068,
          78.10155713608346,
          78.10279412043623,
          78.104031104789,
          78.10526808914177,
          78.10650507349455,
          78.10774205784732,
          78.10897904220009,
          78.11021602655286,
          78.11145301090563,
          78.1126899952584,
          78.1139269796112,
          78.11516396396397,
          78.11640094831674,
          78.11763793266951,
          78.11887491702228,
          78.12011190137505,
          78.12134888572783,
          78.1225858700806,
          78.12382285443337,
          78.12505983878614,
          78.12629682313892,
          78.12753380749169,
          78.12877079184447,
          78.13000777619725,
          78.13124476055002,
          78.13248174490279,
          78.13371872925556,
          78.13495571360833,
          78.1361926979611,
          78.13742968231388,
          78.13866666666665,
          78.13990365101942,
          78.1411406353722,
          78.14237761972497,
          78.14361460407775,
          78.14485158843053,
          78.1460885727833,
          78.14732555713607,
          78.14856254148884,
          78.14979952584162,
          78.15103651019439,
          78.15227349454716,
          78.15351047889993,
          78.1547474632527,
          78.15598444760548,
          78.15722143195825,
          78.15845841631103,
          78.15969540066381,
          78.16093238501658,
          78.16216936936935,
          78.16340635372212,
          78.1646433380749,
          78.16588032242767,
          78.16711730678044,
          78.16835429113321,
          78.16959127548598,
          78.17082825983876,
          78.17206524419153,
          78.17330222854432,
          78.17453921289709,
          78.17577619724986,
          78.17701318160263,
          78.1782501659554,
          78.17948715030818,
          78.18072413466095,
          78.18196111901372,
          78.1831981033665,
          78.18443508771927
         ]
        }
       ],
       "layout": {
        "legend": {
         "bgcolor": "#F5F6F9",
         "font": {
          "color": "#4D5663"
         }
        },
        "paper_bgcolor": "#F5F6F9",
        "plot_bgcolor": "#F5F6F9",
        "title": {
         "font": {
          "color": "#4D5663"
         }
        },
        "xaxis": {
         "gridcolor": "#E1E5ED",
         "showgrid": true,
         "tickfont": {
          "color": "#4D5663"
         },
         "title": {
          "font": {
           "color": "#4D5663"
          },
          "text": ""
         },
         "zerolinecolor": "#E1E5ED"
        },
        "yaxis": {
         "gridcolor": "#E1E5ED",
         "range": [
          0,
          100
         ],
         "showgrid": true,
         "tickfont": {
          "color": "#4D5663"
         },
         "title": {
          "font": {
           "color": "#4D5663"
          },
          "text": ""
         },
         "zerolinecolor": "#E1E5ED"
        }
       }
      },
      "text/html": [
       "<div>\n",
       "        \n",
       "        \n",
       "            <div id=\"59e5e917-d646-4d2d-a56c-7a361fdb58b7\" class=\"plotly-graph-div\" style=\"height:525px; width:100%;\"></div>\n",
       "            <script type=\"text/javascript\">\n",
       "                require([\"plotly\"], function(Plotly) {\n",
       "                    window.PLOTLYENV=window.PLOTLYENV || {};\n",
       "                    window.PLOTLYENV.BASE_URL='https://plot.ly';\n",
       "                    \n",
       "                if (document.getElementById(\"59e5e917-d646-4d2d-a56c-7a361fdb58b7\")) {\n",
       "                    Plotly.newPlot(\n",
       "                        '59e5e917-d646-4d2d-a56c-7a361fdb58b7',\n",
       "                        [{\"line\": {\"color\": \"rgba(135, 205, 237, 1.0)\", \"dash\": \"solid\", \"shape\": \"linear\", \"width\": 1.3}, \"marker\": {\"size\": 8, \"symbol\": \"circle\"}, \"mode\": \"lines+markers\", \"name\": \"positive_percent\", \"text\": \"\", \"type\": \"scatter\", \"uid\": \"453c4098-9bdb-4d4c-96df-42d90e67e8cd\", \"x\": [\"2019-01-08\", \"2019-01-15\", \"2019-01-22\", \"2019-01-29\", \"2019-02-05\", \"2019-02-12\", \"2019-02-19\", \"2019-02-26\", \"2019-03-05\", \"2019-03-12\", \"2019-03-19\", \"2019-03-26\", \"2019-04-02\", \"2019-04-09\", \"2019-04-16\", \"2019-04-23\", \"2019-04-30\", \"2019-05-07\", \"2019-05-14\", \"2019-05-21\", \"2019-05-28\", \"2019-06-04\", \"2019-06-11\", \"2019-06-18\", \"2019-06-25\", \"2019-07-02\", \"2019-07-09\", \"2019-07-16\", \"2019-07-23\", \"2019-07-30\", \"2019-08-06\", \"2019-08-13\", \"2019-08-20\", \"2019-08-27\", \"2019-09-03\", \"2019-09-10\", \"2019-09-17\", \"2019-09-24\", \"2019-10-01\", \"2019-10-08\", \"2019-10-15\", \"2019-10-22\", \"2019-10-29\", \"2019-11-05\", \"2019-11-12\", \"2019-11-19\", \"2019-11-26\", \"2019-12-03\", \"2019-12-10\", \"2019-12-17\", \"2019-12-24\", \"2019-12-31\", \"2020-01-08\", \"2020-01-15\", \"2020-01-22\", \"2020-01-29\", \"2020-02-05\", \"2020-02-12\", \"2020-02-19\", \"2020-02-26\", \"2020-03-04\", \"2020-03-11\", \"2020-03-18\", \"2020-03-25\", \"2020-04-01\", \"2020-04-08\", \"2020-04-15\", \"2020-04-22\", \"2020-04-29\", \"2020-05-06\", \"2020-05-13\", \"2020-05-20\", \"2020-05-27\", \"2020-06-03\", \"2020-06-10\"], \"y\": [80.56, 92.0, 63.16, 92.31, 82.35, 58.82, 77.78, 80.95, 80.95, 88.46, 76.47, 69.23, 76.47, 70.0, 86.67, 75.0, 71.43, 90.91, 83.33, 69.57, 80.0, 75.0, 91.3, 71.43, 75.0, 64.29, 88.24, 84.0, 71.79, 74.29, 76.32, 87.1, 82.05, 76.67, 70.97, 74.29, 62.5, 65.0, 66.67, 61.76, 76.47, 90.32, 91.18, 82.76, 75.86, 75.0, 84.62, 81.25, 80.0, 84.62, 88.89, 88.0, 85.0, 76.92, 85.19, 75.86, 83.33, 81.82, 84.38, 73.08, 73.53, 61.9, 80.65, 75.76, 78.05, 83.33, 85.0, 81.63, 80.0, 75.0, 77.14, 87.5, 82.93, 81.67, 46.67]}, {\"line\": {\"color\": \"rgba(255, 0, 136, 1.0)\", \"dash\": \"dash\", \"shape\": \"linear\", \"width\": 3}, \"mode\": \"lines\", \"name\": \"78.09*x+0.00\", \"type\": \"scatter\", \"uid\": \"94f73399-bbb1-4d80-b2a7-602ed48e27ae\", \"x\": [\"2019-01-08\", \"2019-01-15\", \"2019-01-22\", \"2019-01-29\", \"2019-02-05\", \"2019-02-12\", \"2019-02-19\", \"2019-02-26\", \"2019-03-05\", \"2019-03-12\", \"2019-03-19\", \"2019-03-26\", \"2019-04-02\", \"2019-04-09\", \"2019-04-16\", \"2019-04-23\", \"2019-04-30\", \"2019-05-07\", \"2019-05-14\", \"2019-05-21\", \"2019-05-28\", \"2019-06-04\", \"2019-06-11\", \"2019-06-18\", \"2019-06-25\", \"2019-07-02\", \"2019-07-09\", \"2019-07-16\", \"2019-07-23\", \"2019-07-30\", \"2019-08-06\", \"2019-08-13\", \"2019-08-20\", \"2019-08-27\", \"2019-09-03\", \"2019-09-10\", \"2019-09-17\", \"2019-09-24\", \"2019-10-01\", \"2019-10-08\", \"2019-10-15\", \"2019-10-22\", \"2019-10-29\", \"2019-11-05\", \"2019-11-12\", \"2019-11-19\", \"2019-11-26\", \"2019-12-03\", \"2019-12-10\", \"2019-12-17\", \"2019-12-24\", \"2019-12-31\", \"2020-01-08\", \"2020-01-15\", \"2020-01-22\", \"2020-01-29\", \"2020-02-05\", \"2020-02-12\", \"2020-02-19\", \"2020-02-26\", \"2020-03-04\", \"2020-03-11\", \"2020-03-18\", \"2020-03-25\", \"2020-04-01\", \"2020-04-08\", \"2020-04-15\", \"2020-04-22\", \"2020-04-29\", \"2020-05-06\", \"2020-05-13\", \"2020-05-20\", \"2020-05-27\", \"2020-06-03\", \"2020-06-10\"], \"y\": [78.09289824561404, 78.09413522996681, 78.09537221431958, 78.09660919867235, 78.09784618302513, 78.09908316737791, 78.10032015173068, 78.10155713608346, 78.10279412043623, 78.104031104789, 78.10526808914177, 78.10650507349455, 78.10774205784732, 78.10897904220009, 78.11021602655286, 78.11145301090563, 78.1126899952584, 78.1139269796112, 78.11516396396397, 78.11640094831674, 78.11763793266951, 78.11887491702228, 78.12011190137505, 78.12134888572783, 78.1225858700806, 78.12382285443337, 78.12505983878614, 78.12629682313892, 78.12753380749169, 78.12877079184447, 78.13000777619725, 78.13124476055002, 78.13248174490279, 78.13371872925556, 78.13495571360833, 78.1361926979611, 78.13742968231388, 78.13866666666665, 78.13990365101942, 78.1411406353722, 78.14237761972497, 78.14361460407775, 78.14485158843053, 78.1460885727833, 78.14732555713607, 78.14856254148884, 78.14979952584162, 78.15103651019439, 78.15227349454716, 78.15351047889993, 78.1547474632527, 78.15598444760548, 78.15722143195825, 78.15845841631103, 78.15969540066381, 78.16093238501658, 78.16216936936935, 78.16340635372212, 78.1646433380749, 78.16588032242767, 78.16711730678044, 78.16835429113321, 78.16959127548598, 78.17082825983876, 78.17206524419153, 78.17330222854432, 78.17453921289709, 78.17577619724986, 78.17701318160263, 78.1782501659554, 78.17948715030818, 78.18072413466095, 78.18196111901372, 78.1831981033665, 78.18443508771927]}],\n",
       "                        {\"legend\": {\"bgcolor\": \"#F5F6F9\", \"font\": {\"color\": \"#4D5663\"}}, \"paper_bgcolor\": \"#F5F6F9\", \"plot_bgcolor\": \"#F5F6F9\", \"title\": {\"font\": {\"color\": \"#4D5663\"}}, \"xaxis\": {\"gridcolor\": \"#E1E5ED\", \"showgrid\": true, \"tickfont\": {\"color\": \"#4D5663\"}, \"title\": {\"font\": {\"color\": \"#4D5663\"}, \"text\": \"\"}, \"zerolinecolor\": \"#E1E5ED\"}, \"yaxis\": {\"gridcolor\": \"#E1E5ED\", \"range\": [0, 100], \"showgrid\": true, \"tickfont\": {\"color\": \"#4D5663\"}, \"title\": {\"font\": {\"color\": \"#4D5663\"}, \"text\": \"\"}, \"zerolinecolor\": \"#E1E5ED\"}},\n",
       "                        {\"showLink\": true, \"linkText\": \"Export to plot.ly\", \"plotlyServerURL\": \"https://plot.ly\", \"responsive\": true}\n",
       "                    ).then(function(){\n",
       "                            \n",
       "var gd = document.getElementById('59e5e917-d646-4d2d-a56c-7a361fdb58b7');\n",
       "var x = new MutationObserver(function (mutations, observer) {{\n",
       "        var display = window.getComputedStyle(gd).display;\n",
       "        if (!display || display === 'none') {{\n",
       "            console.log([gd, 'removed!']);\n",
       "            Plotly.purge(gd);\n",
       "            observer.disconnect();\n",
       "        }}\n",
       "}});\n",
       "\n",
       "// Listen for the removal of the full notebook cells\n",
       "var notebookContainer = gd.closest('#notebook-container');\n",
       "if (notebookContainer) {{\n",
       "    x.observe(notebookContainer, {childList: true});\n",
       "}}\n",
       "\n",
       "// Listen for the clearing of the current output cell\n",
       "var outputEl = gd.closest('.output');\n",
       "if (outputEl) {{\n",
       "    x.observe(outputEl, {childList: true});\n",
       "}}\n",
       "\n",
       "                        })\n",
       "                };\n",
       "                });\n",
       "            </script>\n",
       "        </div>"
      ]
     },
     "metadata": {},
     "output_type": "display_data"
    }
   ],
   "source": [
    "# definir layout\n",
    "layout = layLine(0, 100)\n",
    "\n",
    "# visualizar grafico\n",
    "ice_date_eval.iplot(x = 'date',\n",
    "           y='positive_percent' , \n",
    "           mode='lines+markers',\n",
    "           size = 8,\n",
    "           bestfit=True,\n",
    "           colors=['#87cded'],\n",
    "           bestfit_colors=['pink'],\n",
    "           layout=layout.to_plotly_json(),\n",
    "           filename='test')"
   ]
  },
  {
   "cell_type": "code",
   "execution_count": null,
   "metadata": {},
   "outputs": [],
   "source": []
  }
 ],
 "metadata": {
  "colab": {
   "collapsed_sections": [],
   "name": "teste_birdie.ipynb",
   "provenance": []
  },
  "kernelspec": {
   "display_name": "Python 3",
   "language": "python",
   "name": "python3"
  },
  "language_info": {
   "codemirror_mode": {
    "name": "ipython",
    "version": 3
   },
   "file_extension": ".py",
   "mimetype": "text/x-python",
   "name": "python",
   "nbconvert_exporter": "python",
   "pygments_lexer": "ipython3",
   "version": "3.7.4"
  }
 },
 "nbformat": 4,
 "nbformat_minor": 4
}
